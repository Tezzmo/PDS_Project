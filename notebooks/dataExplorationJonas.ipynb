{
 "cells": [
  {
   "cell_type": "markdown",
   "metadata": {},
   "source": [
    "## Import libraries"
   ]
  },
  {
   "cell_type": "code",
   "execution_count": 10,
   "metadata": {},
   "outputs": [],
   "source": [
    "import nextbike\n",
    "import pandas as pd\n",
    "# import numpy as np"
   ]
  },
  {
   "cell_type": "markdown",
   "metadata": {},
   "source": [
    "## Read in raw data"
   ]
  },
  {
   "cell_type": "code",
   "execution_count": 11,
   "metadata": {},
   "outputs": [],
   "source": [
    "dfRaw = nextbike.io.read_file()"
   ]
  },
  {
   "cell_type": "markdown",
   "metadata": {},
   "source": [
    "## Create Index for available bikes per fixed station based on time"
   ]
  },
  {
   "cell_type": "code",
   "execution_count": 12,
   "metadata": {},
   "outputs": [
    {
     "output_type": "execute_result",
     "data": {
      "text/plain": "                   datetime  p_bikes  p_number\n0       2019-01-20 02:06:00        5      5155\n1       2019-01-20 14:16:00        4      5155\n2       2019-01-20 00:00:00        5      5173\n3       2019-01-20 01:55:00        5      5173\n4       2019-01-20 02:06:00        4      5159\n...                     ...      ...       ...\n1561736 2019-12-31 23:59:00        5      5176\n1561739 2019-12-31 18:51:00        1      5155\n1561740 2019-12-31 21:44:00        3      5155\n1561741 2019-12-31 14:30:00       17      5177\n1561742 2019-12-31 23:59:00       18      5177\n\n[1398978 rows x 3 columns]",
      "text/html": "<div>\n<style scoped>\n    .dataframe tbody tr th:only-of-type {\n        vertical-align: middle;\n    }\n\n    .dataframe tbody tr th {\n        vertical-align: top;\n    }\n\n    .dataframe thead th {\n        text-align: right;\n    }\n</style>\n<table border=\"1\" class=\"dataframe\">\n  <thead>\n    <tr style=\"text-align: right;\">\n      <th></th>\n      <th>datetime</th>\n      <th>p_bikes</th>\n      <th>p_number</th>\n    </tr>\n  </thead>\n  <tbody>\n    <tr>\n      <th>0</th>\n      <td>2019-01-20 02:06:00</td>\n      <td>5</td>\n      <td>5155</td>\n    </tr>\n    <tr>\n      <th>1</th>\n      <td>2019-01-20 14:16:00</td>\n      <td>4</td>\n      <td>5155</td>\n    </tr>\n    <tr>\n      <th>2</th>\n      <td>2019-01-20 00:00:00</td>\n      <td>5</td>\n      <td>5173</td>\n    </tr>\n    <tr>\n      <th>3</th>\n      <td>2019-01-20 01:55:00</td>\n      <td>5</td>\n      <td>5173</td>\n    </tr>\n    <tr>\n      <th>4</th>\n      <td>2019-01-20 02:06:00</td>\n      <td>4</td>\n      <td>5159</td>\n    </tr>\n    <tr>\n      <th>...</th>\n      <td>...</td>\n      <td>...</td>\n      <td>...</td>\n    </tr>\n    <tr>\n      <th>1561736</th>\n      <td>2019-12-31 23:59:00</td>\n      <td>5</td>\n      <td>5176</td>\n    </tr>\n    <tr>\n      <th>1561739</th>\n      <td>2019-12-31 18:51:00</td>\n      <td>1</td>\n      <td>5155</td>\n    </tr>\n    <tr>\n      <th>1561740</th>\n      <td>2019-12-31 21:44:00</td>\n      <td>3</td>\n      <td>5155</td>\n    </tr>\n    <tr>\n      <th>1561741</th>\n      <td>2019-12-31 14:30:00</td>\n      <td>17</td>\n      <td>5177</td>\n    </tr>\n    <tr>\n      <th>1561742</th>\n      <td>2019-12-31 23:59:00</td>\n      <td>18</td>\n      <td>5177</td>\n    </tr>\n  </tbody>\n</table>\n<p>1398978 rows × 3 columns</p>\n</div>"
     },
     "metadata": {},
     "execution_count": 12
    }
   ],
   "source": [
    "dfStationBikeNumber = nextbike.io.preprocessStationData(dfRaw)\n",
    "dfStationBikeNumber"
   ]
  },
  {
   "cell_type": "code",
   "execution_count": 13,
   "metadata": {},
   "outputs": [
    {
     "output_type": "execute_result",
     "data": {
      "text/plain": "                     5140  5141  5142  5143  5144  5145  5146  5147  5150  \\\ndatetime                                                                    \n2019-01-01 00:00:00     0     0     0     0     0     0     0     0     0   \n2019-01-01 00:01:00     0     0     0     0     0     0     0     0     0   \n2019-01-01 00:02:00     0     0     0     0     0     0     0     0     0   \n2019-01-01 00:03:00     0     0     0     0     0     0     0     0     0   \n2019-01-01 00:04:00     0     0     0     0     0     0     0     0     0   \n...                   ...   ...   ...   ...   ...   ...   ...   ...   ...   \n2019-12-31 23:55:00     5     2     7     1     3     5     8     2     1   \n2019-12-31 23:56:00     5     2     7     1     3     5     8     2     1   \n2019-12-31 23:57:00     5     2     7     1     3     5     8     2     1   \n2019-12-31 23:58:00     5     2     7     1     3     5     8     2     1   \n2019-12-31 23:59:00     5     2     6     1     3     5     7     2     1   \n\n                     5151  ...  5168  5169  5171  5172  5173  5174  5175  \\\ndatetime                   ...                                             \n2019-01-01 00:00:00     0  ...     0     0     0     0     0     0     0   \n2019-01-01 00:01:00     0  ...     0     0     0     0     0     0     0   \n2019-01-01 00:02:00     0  ...     0     0     0     0     0     0     0   \n2019-01-01 00:03:00     0  ...     0     0     0     0     0     0     0   \n2019-01-01 00:04:00     0  ...     0     0     0     0     0     0     0   \n...                   ...  ...   ...   ...   ...   ...   ...   ...   ...   \n2019-12-31 23:55:00     1  ...     2     3     2     1     1     3     1   \n2019-12-31 23:56:00     1  ...     2     3     2     1     1     3     1   \n2019-12-31 23:57:00     1  ...     2     3     2     1     1     3     1   \n2019-12-31 23:58:00     1  ...     2     3     2     1     1     3     1   \n2019-12-31 23:59:00     1  ...     2     2     1     1     1     3     1   \n\n                     5176  5177  5178  \ndatetime                               \n2019-01-01 00:00:00     0     0     0  \n2019-01-01 00:01:00     0     0     0  \n2019-01-01 00:02:00     0     0     0  \n2019-01-01 00:03:00     0     0     0  \n2019-01-01 00:04:00     0     0     0  \n...                   ...   ...   ...  \n2019-12-31 23:55:00     6    18     1  \n2019-12-31 23:56:00     6    18     1  \n2019-12-31 23:57:00     6    18     1  \n2019-12-31 23:58:00     6    18     1  \n2019-12-31 23:59:00     5    18     1  \n\n[525600 rows x 35 columns]",
      "text/html": "<div>\n<style scoped>\n    .dataframe tbody tr th:only-of-type {\n        vertical-align: middle;\n    }\n\n    .dataframe tbody tr th {\n        vertical-align: top;\n    }\n\n    .dataframe thead th {\n        text-align: right;\n    }\n</style>\n<table border=\"1\" class=\"dataframe\">\n  <thead>\n    <tr style=\"text-align: right;\">\n      <th></th>\n      <th>5140</th>\n      <th>5141</th>\n      <th>5142</th>\n      <th>5143</th>\n      <th>5144</th>\n      <th>5145</th>\n      <th>5146</th>\n      <th>5147</th>\n      <th>5150</th>\n      <th>5151</th>\n      <th>...</th>\n      <th>5168</th>\n      <th>5169</th>\n      <th>5171</th>\n      <th>5172</th>\n      <th>5173</th>\n      <th>5174</th>\n      <th>5175</th>\n      <th>5176</th>\n      <th>5177</th>\n      <th>5178</th>\n    </tr>\n    <tr>\n      <th>datetime</th>\n      <th></th>\n      <th></th>\n      <th></th>\n      <th></th>\n      <th></th>\n      <th></th>\n      <th></th>\n      <th></th>\n      <th></th>\n      <th></th>\n      <th></th>\n      <th></th>\n      <th></th>\n      <th></th>\n      <th></th>\n      <th></th>\n      <th></th>\n      <th></th>\n      <th></th>\n      <th></th>\n      <th></th>\n    </tr>\n  </thead>\n  <tbody>\n    <tr>\n      <th>2019-01-01 00:00:00</th>\n      <td>0</td>\n      <td>0</td>\n      <td>0</td>\n      <td>0</td>\n      <td>0</td>\n      <td>0</td>\n      <td>0</td>\n      <td>0</td>\n      <td>0</td>\n      <td>0</td>\n      <td>...</td>\n      <td>0</td>\n      <td>0</td>\n      <td>0</td>\n      <td>0</td>\n      <td>0</td>\n      <td>0</td>\n      <td>0</td>\n      <td>0</td>\n      <td>0</td>\n      <td>0</td>\n    </tr>\n    <tr>\n      <th>2019-01-01 00:01:00</th>\n      <td>0</td>\n      <td>0</td>\n      <td>0</td>\n      <td>0</td>\n      <td>0</td>\n      <td>0</td>\n      <td>0</td>\n      <td>0</td>\n      <td>0</td>\n      <td>0</td>\n      <td>...</td>\n      <td>0</td>\n      <td>0</td>\n      <td>0</td>\n      <td>0</td>\n      <td>0</td>\n      <td>0</td>\n      <td>0</td>\n      <td>0</td>\n      <td>0</td>\n      <td>0</td>\n    </tr>\n    <tr>\n      <th>2019-01-01 00:02:00</th>\n      <td>0</td>\n      <td>0</td>\n      <td>0</td>\n      <td>0</td>\n      <td>0</td>\n      <td>0</td>\n      <td>0</td>\n      <td>0</td>\n      <td>0</td>\n      <td>0</td>\n      <td>...</td>\n      <td>0</td>\n      <td>0</td>\n      <td>0</td>\n      <td>0</td>\n      <td>0</td>\n      <td>0</td>\n      <td>0</td>\n      <td>0</td>\n      <td>0</td>\n      <td>0</td>\n    </tr>\n    <tr>\n      <th>2019-01-01 00:03:00</th>\n      <td>0</td>\n      <td>0</td>\n      <td>0</td>\n      <td>0</td>\n      <td>0</td>\n      <td>0</td>\n      <td>0</td>\n      <td>0</td>\n      <td>0</td>\n      <td>0</td>\n      <td>...</td>\n      <td>0</td>\n      <td>0</td>\n      <td>0</td>\n      <td>0</td>\n      <td>0</td>\n      <td>0</td>\n      <td>0</td>\n      <td>0</td>\n      <td>0</td>\n      <td>0</td>\n    </tr>\n    <tr>\n      <th>2019-01-01 00:04:00</th>\n      <td>0</td>\n      <td>0</td>\n      <td>0</td>\n      <td>0</td>\n      <td>0</td>\n      <td>0</td>\n      <td>0</td>\n      <td>0</td>\n      <td>0</td>\n      <td>0</td>\n      <td>...</td>\n      <td>0</td>\n      <td>0</td>\n      <td>0</td>\n      <td>0</td>\n      <td>0</td>\n      <td>0</td>\n      <td>0</td>\n      <td>0</td>\n      <td>0</td>\n      <td>0</td>\n    </tr>\n    <tr>\n      <th>...</th>\n      <td>...</td>\n      <td>...</td>\n      <td>...</td>\n      <td>...</td>\n      <td>...</td>\n      <td>...</td>\n      <td>...</td>\n      <td>...</td>\n      <td>...</td>\n      <td>...</td>\n      <td>...</td>\n      <td>...</td>\n      <td>...</td>\n      <td>...</td>\n      <td>...</td>\n      <td>...</td>\n      <td>...</td>\n      <td>...</td>\n      <td>...</td>\n      <td>...</td>\n      <td>...</td>\n    </tr>\n    <tr>\n      <th>2019-12-31 23:55:00</th>\n      <td>5</td>\n      <td>2</td>\n      <td>7</td>\n      <td>1</td>\n      <td>3</td>\n      <td>5</td>\n      <td>8</td>\n      <td>2</td>\n      <td>1</td>\n      <td>1</td>\n      <td>...</td>\n      <td>2</td>\n      <td>3</td>\n      <td>2</td>\n      <td>1</td>\n      <td>1</td>\n      <td>3</td>\n      <td>1</td>\n      <td>6</td>\n      <td>18</td>\n      <td>1</td>\n    </tr>\n    <tr>\n      <th>2019-12-31 23:56:00</th>\n      <td>5</td>\n      <td>2</td>\n      <td>7</td>\n      <td>1</td>\n      <td>3</td>\n      <td>5</td>\n      <td>8</td>\n      <td>2</td>\n      <td>1</td>\n      <td>1</td>\n      <td>...</td>\n      <td>2</td>\n      <td>3</td>\n      <td>2</td>\n      <td>1</td>\n      <td>1</td>\n      <td>3</td>\n      <td>1</td>\n      <td>6</td>\n      <td>18</td>\n      <td>1</td>\n    </tr>\n    <tr>\n      <th>2019-12-31 23:57:00</th>\n      <td>5</td>\n      <td>2</td>\n      <td>7</td>\n      <td>1</td>\n      <td>3</td>\n      <td>5</td>\n      <td>8</td>\n      <td>2</td>\n      <td>1</td>\n      <td>1</td>\n      <td>...</td>\n      <td>2</td>\n      <td>3</td>\n      <td>2</td>\n      <td>1</td>\n      <td>1</td>\n      <td>3</td>\n      <td>1</td>\n      <td>6</td>\n      <td>18</td>\n      <td>1</td>\n    </tr>\n    <tr>\n      <th>2019-12-31 23:58:00</th>\n      <td>5</td>\n      <td>2</td>\n      <td>7</td>\n      <td>1</td>\n      <td>3</td>\n      <td>5</td>\n      <td>8</td>\n      <td>2</td>\n      <td>1</td>\n      <td>1</td>\n      <td>...</td>\n      <td>2</td>\n      <td>3</td>\n      <td>2</td>\n      <td>1</td>\n      <td>1</td>\n      <td>3</td>\n      <td>1</td>\n      <td>6</td>\n      <td>18</td>\n      <td>1</td>\n    </tr>\n    <tr>\n      <th>2019-12-31 23:59:00</th>\n      <td>5</td>\n      <td>2</td>\n      <td>6</td>\n      <td>1</td>\n      <td>3</td>\n      <td>5</td>\n      <td>7</td>\n      <td>2</td>\n      <td>1</td>\n      <td>1</td>\n      <td>...</td>\n      <td>2</td>\n      <td>2</td>\n      <td>1</td>\n      <td>1</td>\n      <td>1</td>\n      <td>3</td>\n      <td>1</td>\n      <td>5</td>\n      <td>18</td>\n      <td>1</td>\n    </tr>\n  </tbody>\n</table>\n<p>525600 rows × 35 columns</p>\n</div>"
     },
     "metadata": {},
     "execution_count": 13
    }
   ],
   "source": [
    "dfStationBikeNumber = nextbike.io.createBikeNumberPerStationIndex(dfStationBikeNumber)\n",
    "dfStationBikeNumber"
   ]
  },
  {
   "cell_type": "markdown",
   "metadata": {},
   "source": [
    "## Create station data"
   ]
  },
  {
   "cell_type": "code",
   "execution_count": 14,
   "metadata": {},
   "outputs": [
    {
     "output_type": "execute_result",
     "data": {
      "text/plain": "                    datetime  b_number   trip      p_lat  b_bike_type  \\\n3        2019-01-20 01:55:00     11169  start  50.795224           15   \n4        2019-01-20 02:06:00     11169    end  50.804522           15   \n5        2019-01-20 08:15:00     11169  start  50.804522           15   \n6        2019-01-20 11:39:00     11169    end  50.804522           15   \n7        2019-01-20 11:58:00     11169  start  50.804522           15   \n...                      ...       ...    ...        ...          ...   \n1561731  2019-12-31 22:44:00     11265    end  50.813203           15   \n1561734  2019-12-31 12:26:00     11080  start  50.824840           15   \n1561735  2019-12-31 12:42:00     11080    end  50.807063           15   \n1561738  2019-12-31 18:37:00     11299  start  50.824863           15   \n1561739  2019-12-31 18:51:00     11299    end  50.808867           15   \n\n                                     p_name  p_number     p_lng  \n3                                Südbahnhof      5173  8.763266  \n4            Frankfurter Straße/Psychologie      5159  8.770358  \n5            Frankfurter Straße/Psychologie      5159  8.770358  \n6            Frankfurter Straße/Psychologie      5159  8.770358  \n7            Frankfurter Straße/Psychologie      5159  8.770358  \n...                                     ...       ...       ...  \n1561731        Biegenstraße/Volkshochschule      5156  8.775948  \n1561734                          BIKE 11080         0  8.774508  \n1561735  Universitätsstraße/Bibliothek Jura      5176  8.769918  \n1561738                          BIKE 11299         0  8.774459  \n1561739               Biegenstraße/Cineplex      5155  8.773050  \n\n[1282707 rows x 8 columns]",
      "text/html": "<div>\n<style scoped>\n    .dataframe tbody tr th:only-of-type {\n        vertical-align: middle;\n    }\n\n    .dataframe tbody tr th {\n        vertical-align: top;\n    }\n\n    .dataframe thead th {\n        text-align: right;\n    }\n</style>\n<table border=\"1\" class=\"dataframe\">\n  <thead>\n    <tr style=\"text-align: right;\">\n      <th></th>\n      <th>datetime</th>\n      <th>b_number</th>\n      <th>trip</th>\n      <th>p_lat</th>\n      <th>b_bike_type</th>\n      <th>p_name</th>\n      <th>p_number</th>\n      <th>p_lng</th>\n    </tr>\n  </thead>\n  <tbody>\n    <tr>\n      <th>3</th>\n      <td>2019-01-20 01:55:00</td>\n      <td>11169</td>\n      <td>start</td>\n      <td>50.795224</td>\n      <td>15</td>\n      <td>Südbahnhof</td>\n      <td>5173</td>\n      <td>8.763266</td>\n    </tr>\n    <tr>\n      <th>4</th>\n      <td>2019-01-20 02:06:00</td>\n      <td>11169</td>\n      <td>end</td>\n      <td>50.804522</td>\n      <td>15</td>\n      <td>Frankfurter Straße/Psychologie</td>\n      <td>5159</td>\n      <td>8.770358</td>\n    </tr>\n    <tr>\n      <th>5</th>\n      <td>2019-01-20 08:15:00</td>\n      <td>11169</td>\n      <td>start</td>\n      <td>50.804522</td>\n      <td>15</td>\n      <td>Frankfurter Straße/Psychologie</td>\n      <td>5159</td>\n      <td>8.770358</td>\n    </tr>\n    <tr>\n      <th>6</th>\n      <td>2019-01-20 11:39:00</td>\n      <td>11169</td>\n      <td>end</td>\n      <td>50.804522</td>\n      <td>15</td>\n      <td>Frankfurter Straße/Psychologie</td>\n      <td>5159</td>\n      <td>8.770358</td>\n    </tr>\n    <tr>\n      <th>7</th>\n      <td>2019-01-20 11:58:00</td>\n      <td>11169</td>\n      <td>start</td>\n      <td>50.804522</td>\n      <td>15</td>\n      <td>Frankfurter Straße/Psychologie</td>\n      <td>5159</td>\n      <td>8.770358</td>\n    </tr>\n    <tr>\n      <th>...</th>\n      <td>...</td>\n      <td>...</td>\n      <td>...</td>\n      <td>...</td>\n      <td>...</td>\n      <td>...</td>\n      <td>...</td>\n      <td>...</td>\n    </tr>\n    <tr>\n      <th>1561731</th>\n      <td>2019-12-31 22:44:00</td>\n      <td>11265</td>\n      <td>end</td>\n      <td>50.813203</td>\n      <td>15</td>\n      <td>Biegenstraße/Volkshochschule</td>\n      <td>5156</td>\n      <td>8.775948</td>\n    </tr>\n    <tr>\n      <th>1561734</th>\n      <td>2019-12-31 12:26:00</td>\n      <td>11080</td>\n      <td>start</td>\n      <td>50.824840</td>\n      <td>15</td>\n      <td>BIKE 11080</td>\n      <td>0</td>\n      <td>8.774508</td>\n    </tr>\n    <tr>\n      <th>1561735</th>\n      <td>2019-12-31 12:42:00</td>\n      <td>11080</td>\n      <td>end</td>\n      <td>50.807063</td>\n      <td>15</td>\n      <td>Universitätsstraße/Bibliothek Jura</td>\n      <td>5176</td>\n      <td>8.769918</td>\n    </tr>\n    <tr>\n      <th>1561738</th>\n      <td>2019-12-31 18:37:00</td>\n      <td>11299</td>\n      <td>start</td>\n      <td>50.824863</td>\n      <td>15</td>\n      <td>BIKE 11299</td>\n      <td>0</td>\n      <td>8.774459</td>\n    </tr>\n    <tr>\n      <th>1561739</th>\n      <td>2019-12-31 18:51:00</td>\n      <td>11299</td>\n      <td>end</td>\n      <td>50.808867</td>\n      <td>15</td>\n      <td>Biegenstraße/Cineplex</td>\n      <td>5155</td>\n      <td>8.773050</td>\n    </tr>\n  </tbody>\n</table>\n<p>1282707 rows × 8 columns</p>\n</div>"
     },
     "metadata": {},
     "execution_count": 14
    }
   ],
   "source": [
    "dfTrips = nextbike.io.preprocessData(dfRaw)\n",
    "dfTrips"
   ]
  },
  {
   "cell_type": "code",
   "execution_count": 15,
   "metadata": {},
   "outputs": [
    {
     "output_type": "execute_result",
     "data": {
      "text/plain": "                                                  p_name       pLat     pLong\np_number                                                                     \n0                                       no fixed station        NaN       NaN\n5140                                            Anatomie  50.816058  8.772242\n5141                           Ketzerbach/Zwischenhausen  50.813950  8.766160\n5142                                      Friedrichplatz  50.803270  8.764060\n5143               Interkulturelle Gärten/ Am Richtsberg  50.794700  8.772230\n5144                       Carolinenhaus/Elisabethkirche  50.814655  8.771212\n5145                         Neue Universitätsbibliothek  50.813691  8.770734\n5146                          Café Traume/Afföllerwiesen  50.820220  8.771030\n5147                                      Am Schülerpark  50.812779  8.780602\n5150                    Alte Kasseler Straße/Jägertunnel  50.822927  8.774681\n5151                        Am Krekel/Stadtwerke Marburg  50.789508  8.756438\n5152                   Am Plan/Wirtschaftswissenschaften  50.807894  8.766971\n5153                                An den Siechengärten  50.805809  8.782821\n5154                Ersatz-Station / August-Bebel-Platz   50.781000  8.765460\n5155                               Biegenstraße/Cineplex  50.808852  8.773134\n5156                        Biegenstraße/Volkshochschule  50.813203  8.775948\n5157                                       Brunnenstraße  50.816601  8.751507\n5158                           Elisabeth-Blochmann-Platz  50.808057  8.775308\n5159                      Frankfurter Straße/Psychologie  50.804522  8.770358\n5160      Friedrich-Ebert-Straße/ Christian-Wolff-Häuser  50.785589  8.779437\n5162                          Frankfurter Straße/Theater  50.798841  8.762144\n5163                               Georg-Gaßmann-Stadion  50.798656  8.752965\n5164                                    Ginseldorfer Weg  50.827921  8.775086\n5165                                        Hauptbahnhof  50.819957  8.773736\n5166                                             Audimax  50.810971  8.774241\n5167                             Marbacher Weg/Pharmazie  50.813187  8.763264\n5168                                      Ortenbergplatz  50.816653  8.781166\n5169                             Philosophische Fakultät  50.809813  8.779429\n5171                                             Aquamar  50.801337  8.773266\n5172                                           Stadtbüro  50.790362  8.766947\n5173                                          Südbahnhof  50.795224  8.763266\n5174                                Südbahnhof Westseite  50.795270  8.762049\n5175                                 Universitätsstadion  50.803751  8.774697\n5176                  Universitätsstraße/Bibliothek Jura  50.807063  8.769918\n5177                                   Wehrda Bürgerhaus  50.836178  8.756796\n5178                                       Wilhelmsplatz  50.804725  8.759248",
      "text/html": "<div>\n<style scoped>\n    .dataframe tbody tr th:only-of-type {\n        vertical-align: middle;\n    }\n\n    .dataframe tbody tr th {\n        vertical-align: top;\n    }\n\n    .dataframe thead th {\n        text-align: right;\n    }\n</style>\n<table border=\"1\" class=\"dataframe\">\n  <thead>\n    <tr style=\"text-align: right;\">\n      <th></th>\n      <th>p_name</th>\n      <th>pLat</th>\n      <th>pLong</th>\n    </tr>\n    <tr>\n      <th>p_number</th>\n      <th></th>\n      <th></th>\n      <th></th>\n    </tr>\n  </thead>\n  <tbody>\n    <tr>\n      <th>0</th>\n      <td>no fixed station</td>\n      <td>NaN</td>\n      <td>NaN</td>\n    </tr>\n    <tr>\n      <th>5140</th>\n      <td>Anatomie</td>\n      <td>50.816058</td>\n      <td>8.772242</td>\n    </tr>\n    <tr>\n      <th>5141</th>\n      <td>Ketzerbach/Zwischenhausen</td>\n      <td>50.813950</td>\n      <td>8.766160</td>\n    </tr>\n    <tr>\n      <th>5142</th>\n      <td>Friedrichplatz</td>\n      <td>50.803270</td>\n      <td>8.764060</td>\n    </tr>\n    <tr>\n      <th>5143</th>\n      <td>Interkulturelle Gärten/ Am Richtsberg</td>\n      <td>50.794700</td>\n      <td>8.772230</td>\n    </tr>\n    <tr>\n      <th>5144</th>\n      <td>Carolinenhaus/Elisabethkirche</td>\n      <td>50.814655</td>\n      <td>8.771212</td>\n    </tr>\n    <tr>\n      <th>5145</th>\n      <td>Neue Universitätsbibliothek</td>\n      <td>50.813691</td>\n      <td>8.770734</td>\n    </tr>\n    <tr>\n      <th>5146</th>\n      <td>Café Traume/Afföllerwiesen</td>\n      <td>50.820220</td>\n      <td>8.771030</td>\n    </tr>\n    <tr>\n      <th>5147</th>\n      <td>Am Schülerpark</td>\n      <td>50.812779</td>\n      <td>8.780602</td>\n    </tr>\n    <tr>\n      <th>5150</th>\n      <td>Alte Kasseler Straße/Jägertunnel</td>\n      <td>50.822927</td>\n      <td>8.774681</td>\n    </tr>\n    <tr>\n      <th>5151</th>\n      <td>Am Krekel/Stadtwerke Marburg</td>\n      <td>50.789508</td>\n      <td>8.756438</td>\n    </tr>\n    <tr>\n      <th>5152</th>\n      <td>Am Plan/Wirtschaftswissenschaften</td>\n      <td>50.807894</td>\n      <td>8.766971</td>\n    </tr>\n    <tr>\n      <th>5153</th>\n      <td>An den Siechengärten</td>\n      <td>50.805809</td>\n      <td>8.782821</td>\n    </tr>\n    <tr>\n      <th>5154</th>\n      <td>Ersatz-Station / August-Bebel-Platz</td>\n      <td>50.781000</td>\n      <td>8.765460</td>\n    </tr>\n    <tr>\n      <th>5155</th>\n      <td>Biegenstraße/Cineplex</td>\n      <td>50.808852</td>\n      <td>8.773134</td>\n    </tr>\n    <tr>\n      <th>5156</th>\n      <td>Biegenstraße/Volkshochschule</td>\n      <td>50.813203</td>\n      <td>8.775948</td>\n    </tr>\n    <tr>\n      <th>5157</th>\n      <td>Brunnenstraße</td>\n      <td>50.816601</td>\n      <td>8.751507</td>\n    </tr>\n    <tr>\n      <th>5158</th>\n      <td>Elisabeth-Blochmann-Platz</td>\n      <td>50.808057</td>\n      <td>8.775308</td>\n    </tr>\n    <tr>\n      <th>5159</th>\n      <td>Frankfurter Straße/Psychologie</td>\n      <td>50.804522</td>\n      <td>8.770358</td>\n    </tr>\n    <tr>\n      <th>5160</th>\n      <td>Friedrich-Ebert-Straße/ Christian-Wolff-Häuser</td>\n      <td>50.785589</td>\n      <td>8.779437</td>\n    </tr>\n    <tr>\n      <th>5162</th>\n      <td>Frankfurter Straße/Theater</td>\n      <td>50.798841</td>\n      <td>8.762144</td>\n    </tr>\n    <tr>\n      <th>5163</th>\n      <td>Georg-Gaßmann-Stadion</td>\n      <td>50.798656</td>\n      <td>8.752965</td>\n    </tr>\n    <tr>\n      <th>5164</th>\n      <td>Ginseldorfer Weg</td>\n      <td>50.827921</td>\n      <td>8.775086</td>\n    </tr>\n    <tr>\n      <th>5165</th>\n      <td>Hauptbahnhof</td>\n      <td>50.819957</td>\n      <td>8.773736</td>\n    </tr>\n    <tr>\n      <th>5166</th>\n      <td>Audimax</td>\n      <td>50.810971</td>\n      <td>8.774241</td>\n    </tr>\n    <tr>\n      <th>5167</th>\n      <td>Marbacher Weg/Pharmazie</td>\n      <td>50.813187</td>\n      <td>8.763264</td>\n    </tr>\n    <tr>\n      <th>5168</th>\n      <td>Ortenbergplatz</td>\n      <td>50.816653</td>\n      <td>8.781166</td>\n    </tr>\n    <tr>\n      <th>5169</th>\n      <td>Philosophische Fakultät</td>\n      <td>50.809813</td>\n      <td>8.779429</td>\n    </tr>\n    <tr>\n      <th>5171</th>\n      <td>Aquamar</td>\n      <td>50.801337</td>\n      <td>8.773266</td>\n    </tr>\n    <tr>\n      <th>5172</th>\n      <td>Stadtbüro</td>\n      <td>50.790362</td>\n      <td>8.766947</td>\n    </tr>\n    <tr>\n      <th>5173</th>\n      <td>Südbahnhof</td>\n      <td>50.795224</td>\n      <td>8.763266</td>\n    </tr>\n    <tr>\n      <th>5174</th>\n      <td>Südbahnhof Westseite</td>\n      <td>50.795270</td>\n      <td>8.762049</td>\n    </tr>\n    <tr>\n      <th>5175</th>\n      <td>Universitätsstadion</td>\n      <td>50.803751</td>\n      <td>8.774697</td>\n    </tr>\n    <tr>\n      <th>5176</th>\n      <td>Universitätsstraße/Bibliothek Jura</td>\n      <td>50.807063</td>\n      <td>8.769918</td>\n    </tr>\n    <tr>\n      <th>5177</th>\n      <td>Wehrda Bürgerhaus</td>\n      <td>50.836178</td>\n      <td>8.756796</td>\n    </tr>\n    <tr>\n      <th>5178</th>\n      <td>Wilhelmsplatz</td>\n      <td>50.804725</td>\n      <td>8.759248</td>\n    </tr>\n  </tbody>\n</table>\n</div>"
     },
     "metadata": {},
     "execution_count": 15
    }
   ],
   "source": [
    "dfStations = nextbike.io.createStations(dfTrips)\n",
    "dfStations"
   ]
  },
  {
   "cell_type": "markdown",
   "metadata": {},
   "source": [
    "## create trip data"
   ]
  },
  {
   "cell_type": "code",
   "execution_count": 16,
   "metadata": {
    "tags": [
     "outputPrepend",
     "outputPrepend",
     "outputPrepend",
     "outputPrepend",
     "outputPrepend",
     "outputPrepend",
     "outputPrepend",
     "outputPrepend",
     "outputPrepend",
     "outputPrepend",
     "outputPrepend"
    ]
   },
   "outputs": [
    {
     "output_type": "stream",
     "name": "stdout",
     "text": "Error at lines:\n128324\n128580\n128674\n128824\n128860\n129114\n129340\n129513\n130326\n648905\n649161\n649255\n649405\n649441\n649695\n649921\n650094\n650907\n1169486\n1169742\n1169836\n1169986\n1170022\n1170276\n1170502\n1170675\n1171488\n"
    }
   ],
   "source": [
    "dfTrips = nextbike.io.createTrips(dfTrips)"
   ]
  },
  {
   "cell_type": "code",
   "execution_count": 17,
   "metadata": {},
   "outputs": [
    {
     "output_type": "execute_result",
     "data": {
      "text/plain": "        bNumber               sTime               eTime duration     sLong  \\\n0         11169 2019-01-20 01:55:00 2019-01-20 02:06:00 00:11:00  8.763266   \n1         11169 2019-01-20 08:15:00 2019-01-20 11:39:00 03:24:00  8.770358   \n2         11169 2019-01-20 11:58:00 2019-01-20 12:06:00 00:08:00  8.770358   \n3         11169 2019-01-20 15:12:00 2019-01-20 15:27:00 00:15:00  8.759248   \n4         11169 2019-01-20 15:39:00 2019-01-20 15:42:00 00:03:00  8.774681   \n...         ...                 ...                 ...      ...       ...   \n630913    11265 2019-12-31 18:53:00 2019-12-31 19:08:00 00:15:00  8.774454   \n630914    11265 2019-12-31 22:13:00 2019-12-31 22:22:00 00:09:00  8.759248   \n630915    11265 2019-12-31 22:37:00 2019-12-31 22:44:00 00:07:00  8.775351   \n630916    11080 2019-12-31 12:26:00 2019-12-31 12:42:00 00:16:00  8.774508   \n630917    11299 2019-12-31 18:37:00 2019-12-31 18:51:00 00:14:00  8.774459   \n\n             sLat     eLong       eLat  weekend  bType  sPlaceNumber  \\\n0       50.795224  8.770358  50.804522     True     15          5173   \n1       50.804522  8.770358  50.804522     True     15          5159   \n2       50.804522  8.759248  50.804725     True     15          5159   \n3       50.804725  8.774681  50.822927     True     15          5178   \n4       50.822927  8.774681  50.822927     True     15          5150   \n...           ...       ...        ...      ...    ...           ...   \n630913  50.824867  8.759248  50.804725    False     15             0   \n630914  50.804725  8.775351  50.808070    False     15          5178   \n630915  50.808070  8.775948  50.813203    False     15          5158   \n630916  50.824840  8.769918  50.807063    False     15             0   \n630917  50.824863  8.773050  50.808867    False     15             0   \n\n        ePlaceNumber  \n0               5159  \n1               5159  \n2               5178  \n3               5150  \n4               5150  \n...              ...  \n630913          5178  \n630914          5158  \n630915          5156  \n630916          5176  \n630917          5155  \n\n[630918 rows x 12 columns]",
      "text/html": "<div>\n<style scoped>\n    .dataframe tbody tr th:only-of-type {\n        vertical-align: middle;\n    }\n\n    .dataframe tbody tr th {\n        vertical-align: top;\n    }\n\n    .dataframe thead th {\n        text-align: right;\n    }\n</style>\n<table border=\"1\" class=\"dataframe\">\n  <thead>\n    <tr style=\"text-align: right;\">\n      <th></th>\n      <th>bNumber</th>\n      <th>sTime</th>\n      <th>eTime</th>\n      <th>duration</th>\n      <th>sLong</th>\n      <th>sLat</th>\n      <th>eLong</th>\n      <th>eLat</th>\n      <th>weekend</th>\n      <th>bType</th>\n      <th>sPlaceNumber</th>\n      <th>ePlaceNumber</th>\n    </tr>\n  </thead>\n  <tbody>\n    <tr>\n      <th>0</th>\n      <td>11169</td>\n      <td>2019-01-20 01:55:00</td>\n      <td>2019-01-20 02:06:00</td>\n      <td>00:11:00</td>\n      <td>8.763266</td>\n      <td>50.795224</td>\n      <td>8.770358</td>\n      <td>50.804522</td>\n      <td>True</td>\n      <td>15</td>\n      <td>5173</td>\n      <td>5159</td>\n    </tr>\n    <tr>\n      <th>1</th>\n      <td>11169</td>\n      <td>2019-01-20 08:15:00</td>\n      <td>2019-01-20 11:39:00</td>\n      <td>03:24:00</td>\n      <td>8.770358</td>\n      <td>50.804522</td>\n      <td>8.770358</td>\n      <td>50.804522</td>\n      <td>True</td>\n      <td>15</td>\n      <td>5159</td>\n      <td>5159</td>\n    </tr>\n    <tr>\n      <th>2</th>\n      <td>11169</td>\n      <td>2019-01-20 11:58:00</td>\n      <td>2019-01-20 12:06:00</td>\n      <td>00:08:00</td>\n      <td>8.770358</td>\n      <td>50.804522</td>\n      <td>8.759248</td>\n      <td>50.804725</td>\n      <td>True</td>\n      <td>15</td>\n      <td>5159</td>\n      <td>5178</td>\n    </tr>\n    <tr>\n      <th>3</th>\n      <td>11169</td>\n      <td>2019-01-20 15:12:00</td>\n      <td>2019-01-20 15:27:00</td>\n      <td>00:15:00</td>\n      <td>8.759248</td>\n      <td>50.804725</td>\n      <td>8.774681</td>\n      <td>50.822927</td>\n      <td>True</td>\n      <td>15</td>\n      <td>5178</td>\n      <td>5150</td>\n    </tr>\n    <tr>\n      <th>4</th>\n      <td>11169</td>\n      <td>2019-01-20 15:39:00</td>\n      <td>2019-01-20 15:42:00</td>\n      <td>00:03:00</td>\n      <td>8.774681</td>\n      <td>50.822927</td>\n      <td>8.774681</td>\n      <td>50.822927</td>\n      <td>True</td>\n      <td>15</td>\n      <td>5150</td>\n      <td>5150</td>\n    </tr>\n    <tr>\n      <th>...</th>\n      <td>...</td>\n      <td>...</td>\n      <td>...</td>\n      <td>...</td>\n      <td>...</td>\n      <td>...</td>\n      <td>...</td>\n      <td>...</td>\n      <td>...</td>\n      <td>...</td>\n      <td>...</td>\n      <td>...</td>\n    </tr>\n    <tr>\n      <th>630913</th>\n      <td>11265</td>\n      <td>2019-12-31 18:53:00</td>\n      <td>2019-12-31 19:08:00</td>\n      <td>00:15:00</td>\n      <td>8.774454</td>\n      <td>50.824867</td>\n      <td>8.759248</td>\n      <td>50.804725</td>\n      <td>False</td>\n      <td>15</td>\n      <td>0</td>\n      <td>5178</td>\n    </tr>\n    <tr>\n      <th>630914</th>\n      <td>11265</td>\n      <td>2019-12-31 22:13:00</td>\n      <td>2019-12-31 22:22:00</td>\n      <td>00:09:00</td>\n      <td>8.759248</td>\n      <td>50.804725</td>\n      <td>8.775351</td>\n      <td>50.808070</td>\n      <td>False</td>\n      <td>15</td>\n      <td>5178</td>\n      <td>5158</td>\n    </tr>\n    <tr>\n      <th>630915</th>\n      <td>11265</td>\n      <td>2019-12-31 22:37:00</td>\n      <td>2019-12-31 22:44:00</td>\n      <td>00:07:00</td>\n      <td>8.775351</td>\n      <td>50.808070</td>\n      <td>8.775948</td>\n      <td>50.813203</td>\n      <td>False</td>\n      <td>15</td>\n      <td>5158</td>\n      <td>5156</td>\n    </tr>\n    <tr>\n      <th>630916</th>\n      <td>11080</td>\n      <td>2019-12-31 12:26:00</td>\n      <td>2019-12-31 12:42:00</td>\n      <td>00:16:00</td>\n      <td>8.774508</td>\n      <td>50.824840</td>\n      <td>8.769918</td>\n      <td>50.807063</td>\n      <td>False</td>\n      <td>15</td>\n      <td>0</td>\n      <td>5176</td>\n    </tr>\n    <tr>\n      <th>630917</th>\n      <td>11299</td>\n      <td>2019-12-31 18:37:00</td>\n      <td>2019-12-31 18:51:00</td>\n      <td>00:14:00</td>\n      <td>8.774459</td>\n      <td>50.824863</td>\n      <td>8.773050</td>\n      <td>50.808867</td>\n      <td>False</td>\n      <td>15</td>\n      <td>0</td>\n      <td>5155</td>\n    </tr>\n  </tbody>\n</table>\n<p>630918 rows × 12 columns</p>\n</div>"
     },
     "metadata": {},
     "execution_count": 17
    }
   ],
   "source": [
    "dfTrips"
   ]
  },
  {
   "cell_type": "markdown",
   "metadata": {},
   "source": [
    "## Save files"
   ]
  },
  {
   "cell_type": "code",
   "execution_count": 18,
   "metadata": {},
   "outputs": [],
   "source": [
    "nextbike.io.save_tripData(dfTrips)"
   ]
  },
  {
   "cell_type": "code",
   "execution_count": 19,
   "metadata": {},
   "outputs": [],
   "source": [
    "nextbike.io.save_StationData(dfStationBikeNumber)"
   ]
  }
 ],
 "metadata": {
  "language_info": {
   "codemirror_mode": {
    "name": "ipython",
    "version": 3
   },
   "file_extension": ".py",
   "mimetype": "text/x-python",
   "name": "python",
   "nbconvert_exporter": "python",
   "pygments_lexer": "ipython3",
   "version": "3.7.7-final"
  },
  "orig_nbformat": 2,
  "kernelspec": {
   "name": "python3",
   "display_name": "Python 3"
  }
 },
 "nbformat": 4,
 "nbformat_minor": 2
}