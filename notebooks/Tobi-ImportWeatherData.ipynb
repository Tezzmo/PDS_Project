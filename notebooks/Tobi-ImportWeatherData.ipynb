{
 "cells": [
  {
   "cell_type": "code",
   "execution_count": 1,
   "metadata": {},
   "outputs": [
    {
     "output_type": "stream",
     "name": "stdout",
     "text": "Obtaining file:///Users/tobiasolbruck/University/PDS/PDS_Project\nRequirement already satisfied: pandas in /Users/tobiasolbruck/opt/miniconda3/envs/PDS20/lib/python3.7/site-packages (from PDS-Project==0.0.1.dev12) (1.0.3)\nRequirement already satisfied: scikit-learn in /Users/tobiasolbruck/opt/miniconda3/envs/PDS20/lib/python3.7/site-packages (from PDS-Project==0.0.1.dev12) (0.22.1)\nRequirement already satisfied: click in /Users/tobiasolbruck/opt/miniconda3/envs/PDS20/lib/python3.7/site-packages (from PDS-Project==0.0.1.dev12) (7.1.1)\nRequirement already satisfied: pytz>=2017.2 in /Users/tobiasolbruck/opt/miniconda3/envs/PDS20/lib/python3.7/site-packages (from pandas->PDS-Project==0.0.1.dev12) (2019.3)\nRequirement already satisfied: numpy>=1.13.3 in /Users/tobiasolbruck/opt/miniconda3/envs/PDS20/lib/python3.7/site-packages (from pandas->PDS-Project==0.0.1.dev12) (1.18.1)\nRequirement already satisfied: python-dateutil>=2.6.1 in /Users/tobiasolbruck/opt/miniconda3/envs/PDS20/lib/python3.7/site-packages (from pandas->PDS-Project==0.0.1.dev12) (2.8.1)\nRequirement already satisfied: scipy>=0.17.0 in /Users/tobiasolbruck/opt/miniconda3/envs/PDS20/lib/python3.7/site-packages (from scikit-learn->PDS-Project==0.0.1.dev12) (1.4.1)\nRequirement already satisfied: joblib>=0.11 in /Users/tobiasolbruck/opt/miniconda3/envs/PDS20/lib/python3.7/site-packages (from scikit-learn->PDS-Project==0.0.1.dev12) (0.14.1)\nRequirement already satisfied: six>=1.5 in /Users/tobiasolbruck/opt/miniconda3/envs/PDS20/lib/python3.7/site-packages (from python-dateutil>=2.6.1->pandas->PDS-Project==0.0.1.dev12) (1.14.0)\nInstalling collected packages: PDS-Project\n  Attempting uninstall: PDS-Project\n    Found existing installation: PDS-Project 0.0.1.dev12\n    Uninstalling PDS-Project-0.0.1.dev12:\n      Successfully uninstalled PDS-Project-0.0.1.dev12\n  Running setup.py develop for PDS-Project\nSuccessfully installed PDS-Project\n"
    }
   ],
   "source": [
    "!pip install -e .."
   ]
  },
  {
   "cell_type": "code",
   "execution_count": 2,
   "metadata": {},
   "outputs": [],
   "source": [
    "import nextbike"
   ]
  },
  {
   "cell_type": "code",
   "execution_count": 3,
   "metadata": {},
   "outputs": [],
   "source": [
    "import seaborn as sns\n",
    "import matplotlib.pyplot as plt\n",
    "import pandas as pd\n",
    "import datetime\n",
    "import time\n",
    "import numpy as np\n",
    "import scipy.stats as stats\n",
    "import math"
   ]
  },
  {
   "cell_type": "code",
   "execution_count": 4,
   "metadata": {},
   "outputs": [],
   "source": [
    "df = nextbike.io.getWeatherData()"
   ]
  },
  {
   "cell_type": "code",
   "execution_count": 5,
   "metadata": {},
   "outputs": [
    {
     "output_type": "execute_result",
     "data": {
      "text/plain": "                     temperature  precipitation  precipitationBool\ndate                                                              \n2019-01-01 00:00:00          7.9            0.0                  0\n2019-01-01 01:00:00          7.8            0.0                  0\n2019-01-01 02:00:00          8.2            0.0                  0\n2019-01-01 03:00:00          8.4            0.0                  0\n2019-01-01 04:00:00          7.8            0.0                  0\n...                          ...            ...                ...\n2019-12-31 19:00:00          0.7            0.0                  0\n2019-12-31 20:00:00          1.0            0.0                  0\n2019-12-31 21:00:00          0.6            0.0                  0\n2019-12-31 22:00:00          0.3            0.0                  0\n2019-12-31 23:00:00         -0.3            0.0                  0\n\n[8760 rows x 3 columns]",
      "text/html": "<div>\n<style scoped>\n    .dataframe tbody tr th:only-of-type {\n        vertical-align: middle;\n    }\n\n    .dataframe tbody tr th {\n        vertical-align: top;\n    }\n\n    .dataframe thead th {\n        text-align: right;\n    }\n</style>\n<table border=\"1\" class=\"dataframe\">\n  <thead>\n    <tr style=\"text-align: right;\">\n      <th></th>\n      <th>temperature</th>\n      <th>precipitation</th>\n      <th>precipitationBool</th>\n    </tr>\n    <tr>\n      <th>date</th>\n      <th></th>\n      <th></th>\n      <th></th>\n    </tr>\n  </thead>\n  <tbody>\n    <tr>\n      <th>2019-01-01 00:00:00</th>\n      <td>7.9</td>\n      <td>0.0</td>\n      <td>0</td>\n    </tr>\n    <tr>\n      <th>2019-01-01 01:00:00</th>\n      <td>7.8</td>\n      <td>0.0</td>\n      <td>0</td>\n    </tr>\n    <tr>\n      <th>2019-01-01 02:00:00</th>\n      <td>8.2</td>\n      <td>0.0</td>\n      <td>0</td>\n    </tr>\n    <tr>\n      <th>2019-01-01 03:00:00</th>\n      <td>8.4</td>\n      <td>0.0</td>\n      <td>0</td>\n    </tr>\n    <tr>\n      <th>2019-01-01 04:00:00</th>\n      <td>7.8</td>\n      <td>0.0</td>\n      <td>0</td>\n    </tr>\n    <tr>\n      <th>...</th>\n      <td>...</td>\n      <td>...</td>\n      <td>...</td>\n    </tr>\n    <tr>\n      <th>2019-12-31 19:00:00</th>\n      <td>0.7</td>\n      <td>0.0</td>\n      <td>0</td>\n    </tr>\n    <tr>\n      <th>2019-12-31 20:00:00</th>\n      <td>1.0</td>\n      <td>0.0</td>\n      <td>0</td>\n    </tr>\n    <tr>\n      <th>2019-12-31 21:00:00</th>\n      <td>0.6</td>\n      <td>0.0</td>\n      <td>0</td>\n    </tr>\n    <tr>\n      <th>2019-12-31 22:00:00</th>\n      <td>0.3</td>\n      <td>0.0</td>\n      <td>0</td>\n    </tr>\n    <tr>\n      <th>2019-12-31 23:00:00</th>\n      <td>-0.3</td>\n      <td>0.0</td>\n      <td>0</td>\n    </tr>\n  </tbody>\n</table>\n<p>8760 rows × 3 columns</p>\n</div>"
     },
     "metadata": {},
     "execution_count": 5
    }
   ],
   "source": [
    "df"
   ]
  },
  {
   "cell_type": "code",
   "execution_count": null,
   "metadata": {},
   "outputs": [],
   "source": []
  }
 ],
 "metadata": {
  "language_info": {
   "codemirror_mode": {
    "name": "ipython",
    "version": 3
   },
   "file_extension": ".py",
   "mimetype": "text/x-python",
   "name": "python",
   "nbconvert_exporter": "python",
   "pygments_lexer": "ipython3",
   "version": "3.7.6-final"
  },
  "orig_nbformat": 2,
  "kernelspec": {
   "name": "python37664bitcondab6ee0afeaa47499497a3d25f0ad0380d",
   "display_name": "Python 3.7.6 64-bit (conda)"
  }
 },
 "nbformat": 4,
 "nbformat_minor": 2
}