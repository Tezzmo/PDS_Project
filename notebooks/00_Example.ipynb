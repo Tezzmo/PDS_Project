{
 "cells": [
  {
   "cell_type": "code",
   "execution_count": 1,
   "metadata": {
    "pycharm": {
     "name": "#%% [markdown]\n"
    }
   },
   "outputs": [
    {
     "name": "stdout",
     "output_type": "stream",
     "text": [
      "Obtaining file:///C:/Users/loren/Documents/GitHub/PDS_Project\n",
      "Requirement already satisfied: pandas in h:\\python\\envs\\pds_project\\lib\\site-packages (from PDS-Project==0.0.1.dev13) (1.0.3)\n",
      "Requirement already satisfied: scikit-learn in h:\\python\\envs\\pds_project\\lib\\site-packages (from PDS-Project==0.0.1.dev13) (0.22.2.post1)\n",
      "Requirement already satisfied: click in h:\\python\\envs\\pds_project\\lib\\site-packages (from PDS-Project==0.0.1.dev13) (7.1.1)\n",
      "Requirement already satisfied: pytz>=2017.2 in h:\\python\\envs\\pds_project\\lib\\site-packages (from pandas->PDS-Project==0.0.1.dev13) (2019.3)\n",
      "Requirement already satisfied: numpy>=1.13.3 in h:\\python\\envs\\pds_project\\lib\\site-packages (from pandas->PDS-Project==0.0.1.dev13) (1.18.3)\n",
      "Requirement already satisfied: python-dateutil>=2.6.1 in h:\\python\\envs\\pds_project\\lib\\site-packages (from pandas->PDS-Project==0.0.1.dev13) (2.8.1)\n",
      "Requirement already satisfied: scipy>=0.17.0 in h:\\python\\envs\\pds_project\\lib\\site-packages (from scikit-learn->PDS-Project==0.0.1.dev13) (1.4.1)\n",
      "Requirement already satisfied: joblib>=0.11 in h:\\python\\envs\\pds_project\\lib\\site-packages (from scikit-learn->PDS-Project==0.0.1.dev13) (0.14.1)\n",
      "Requirement already satisfied: six>=1.5 in h:\\python\\envs\\pds_project\\lib\\site-packages (from python-dateutil>=2.6.1->pandas->PDS-Project==0.0.1.dev13) (1.14.0)\n",
      "Installing collected packages: PDS-Project\n",
      "  Attempting uninstall: PDS-Project\n",
      "    Found existing installation: PDS-Project 0.0.1.dev13\n",
      "    Uninstalling PDS-Project-0.0.1.dev13:\n",
      "      Successfully uninstalled PDS-Project-0.0.1.dev13\n",
      "  Running setup.py develop for PDS-Project\n",
      "Successfully installed PDS-Project\n"
     ]
    }
   ],
   "source": [
    "# [things in brackets are unique values]\n",
    "# p = station? b = bike?\n",
    "# P_uid = station id?\n",
    "# p_place_type : [0,12] 0 station, 12 free parked.\n",
    "# p_datetime = time of entry of either start end or first last\n",
    "# p_lat = personal? latitude\n",
    "# p_lng = personal? longitude\n",
    "# trip : [first, last, start, end]. from b_number per day? First= fist entry per day, last= last entry per day, start = trip start, end = trip end. When does first end last gets recorded? first trip at that station?\n",
    "# p_name= CAN BE BIKE # or recording_# else station name\n",
    "# p_number = station number, if 0 name is other than station\n",
    "# p_bikes = number of bikes at the station? for non station 1\n",
    "# b_bike_type = type of the bike? [0,4,14,15,71]\n",
    "# p_spot = [true, false] parked at a station True/false\n",
    "# #%%\n",
    "\n",
    "!pip install -e ..\n",
    "import nextbike\n",
    "import os"
   ]
  },
  {
   "cell_type": "code",
   "execution_count": 2,
   "metadata": {},
   "outputs": [],
   "source": [
    "df = nextbike.io.read_file()"
   ]
  },
  {
   "cell_type": "code",
   "execution_count": null,
   "outputs": [],
   "source": [
    "df.info()"
   ],
   "metadata": {
    "collapsed": false,
    "pycharm": {
     "name": "#%%\n"
    }
   }
  },
  {
   "cell_type": "code",
   "execution_count": null,
   "outputs": [],
   "source": [
    "dfTrip = nextbike.io.createTrips(df)"
   ],
   "metadata": {
    "collapsed": false,
    "pycharm": {
     "name": "#%%\n"
    }
   }
  },
  {
   "cell_type": "code",
   "execution_count": null,
   "outputs": [],
   "source": [
    "dfTrip.info()"
   ],
   "metadata": {
    "collapsed": false,
    "pycharm": {
     "name": "#%%\n"
    }
   }
  },
  {
   "cell_type": "code",
   "execution_count": null,
   "outputs": [],
   "source": [
    "# Create graphs and other data exploring tools.\n",
    "# No trips greater 1 day. Possible maximum billing duration.\n",
    "\n",
    "dfTrip.describe()"
   ],
   "metadata": {
    "collapsed": false,
    "pycharm": {
     "name": "#%%\n"
    }
   }
  },
  {
   "cell_type": "code",
   "execution_count": null,
   "outputs": [],
   "source": [
    "dfTrip.corr()"
   ],
   "metadata": {
    "collapsed": false,
    "pycharm": {
     "name": "#%%\n"
    }
   }
  },
  {
   "cell_type": "code",
   "execution_count": null,
   "outputs": [],
   "source": [
    "(dfTrip['duration'].dt.total_seconds()/60).max()"
   ],
   "metadata": {
    "collapsed": false,
    "pycharm": {
     "name": "#%%\n"
    }
   }
  },
  {
   "cell_type": "code",
   "execution_count": null,
   "outputs": [],
   "source": [
    "dfTrip['duration'].count()"
   ],
   "metadata": {
    "collapsed": false,
    "pycharm": {
     "name": "#%%\n"
    }
   }
  },
  {
   "cell_type": "code",
   "execution_count": null,
   "outputs": [],
   "source": [
    "import math\n",
    "import numpy as np\n",
    "def calculateDist(df):\n",
    "    # Returns distance in meter. Input is df with four coordinates.\n",
    "    return calculateDistFromCord(df['sLong'],df['sLat'],df['eLong'],df['eLat'])\n",
    "# Imported to python from https://stackoverflow.com/questions/6366408/calculating-distance-between-two-latitude-and-longitude-geocoordinates/51839058#51839058\n",
    "\n",
    "def calculateDistFromCord(sLong,sLat,eLong,eLat):\n",
    "    # Returns distance in meter.\n",
    "    d1 = sLat * (math.pi / 180.0)\n",
    "    #d1 = np.float(d1)\n",
    "    d1 = d1.to_numpy()\n",
    "    num1 = sLong * (math.pi / 180.0)\n",
    "    num1 = num1.to_numpy()\n",
    "    d2 = eLat * (math.pi / 180.0)\n",
    "    d2 = d2.to_numpy()\n",
    "    num2 = eLong * (math.pi / 180.0) - num1\n",
    "    num2 = num2.to_numpy()\n",
    "    d3 = np.power(np.sin((d2 - d1) / 2.0), 2.0) + np.cos(d1) * np.cos(d2) * np.power(np.sin(num2 / 2.0), 2.0);\n",
    "\n",
    "    return 6376500.0 * (2.0 * np.arctan2(np.sqrt(d3), np.sqrt(1.0 - d3)))\n",
    "\n",
    "def calculateSpeed(df):\n",
    "    # Calculates km/h. Calculates distance from coordinates if no column named 'dist' is found.\n",
    "    try:\n",
    "        tempDist = df['dist']\n",
    "    except KeyError:\n",
    "        calculateDistFromCord(df['sLong'],df['sLat'],df['eLong'],df['eLat'])\n",
    "    return (tempDist/1000) / (df['duration'].dt.total_seconds()/60/60)\n",
    "\n",
    "\n",
    "import matplotlib.pyplot as plt\n",
    "import timeit\n",
    "#dfTrip = dfTrip[:5000]\n",
    "\n",
    "dfTrip['dist'] = calculateDist(dfTrip)\n",
    "dfTrip['speed'] = calculateSpeed(dfTrip)\n",
    "dfTrip.head()"
   ],
   "metadata": {
    "collapsed": false,
    "pycharm": {
     "name": "#%%\n"
    }
   }
  },
  {
   "cell_type": "code",
   "execution_count": null,
   "outputs": [],
   "source": [
    "fig, (ax1,ax2) = plt.subplots(2,1,sharey=False,figsize=(10,10) )\n",
    "#ax1, ax2 = ax[0],ax[1]\n",
    "ax1.hist(x=(dfTrip['duration'].dt.total_seconds()/60),bins=100,range= [4,1000])\n",
    "hist2 = ax2.hist2d(x=dfTrip['dist']/1000, y=dfTrip['speed'],bins=100,range=[[0.5,10],[1,20]])\n",
    "ax2.set_xlim(0.5,4.5)\n",
    "ax2.set_ylim(1,20)\n",
    "#fig.colorbar('test' ,cax= ax2)"
   ],
   "metadata": {
    "collapsed": false,
    "pycharm": {
     "name": "#%%\n"
    }
   }
  },
  {
   "cell_type": "code",
   "execution_count": null,
   "outputs": [],
   "source": [
    "dfTrip.head()\n",
    "\n"
   ],
   "metadata": {
    "collapsed": false,
    "pycharm": {
     "name": "#%%\n"
    }
   }
  },
  {
   "cell_type": "code",
   "execution_count": null,
   "outputs": [],
   "source": [
    "dfTrip['speed'].describe(percentiles=[0.01,0.05,0.25,0.75,0.95,0.999,0.9999])"
   ],
   "metadata": {
    "collapsed": false,
    "pycharm": {
     "name": "#%%\n"
    }
   }
  },
  {
   "cell_type": "code",
   "execution_count": null,
   "outputs": [],
   "source": [
    "dfTrip.loc[dfTrip['speed'] >66]"
   ],
   "metadata": {
    "collapsed": false,
    "pycharm": {
     "name": "#%%\n"
    }
   }
  },
  {
   "cell_type": "code",
   "execution_count": null,
   "outputs": [],
   "source": [
    "df.loc[df['b_number'] == 11168].head(50)"
   ],
   "metadata": {
    "collapsed": false,
    "pycharm": {
     "name": "#%%\n"
    }
   }
  },
  {
   "cell_type": "code",
   "execution_count": null,
   "outputs": [],
   "source": [
    "df.info()"
   ],
   "metadata": {
    "collapsed": false,
    "pycharm": {
     "name": "#%%\n"
    }
   }
  },
  {
   "cell_type": "code",
   "execution_count": null,
   "outputs": [],
   "source": [
    "dfTrip.info()\n",
    "\n"
   ],
   "metadata": {
    "collapsed": false,
    "pycharm": {
     "name": "#%%\n"
    }
   }
  },
  {
   "cell_type": "code",
   "execution_count": null,
   "outputs": [],
   "source": [
    "!pip install -e ..\n",
    "nextbike.io.output.saveTrips(dfTrip)\n"
   ],
   "metadata": {
    "collapsed": false,
    "pycharm": {
     "name": "#%%\n"
    }
   }
  },
  {
   "cell_type": "code",
   "execution_count": null,
   "outputs": [],
   "source": [
    "import datetime\n",
    "dfTrip[dfTrip['sTime'].dt.date > datetime.date(2019,6,30)].head(5)"
   ],
   "metadata": {
    "collapsed": false,
    "pycharm": {
     "name": "#%%\n"
    }
   }
  },
  {
   "cell_type": "code",
   "execution_count": null,
   "outputs": [],
   "source": [
    "import datetime\n",
    "df[df['datetime'].dt.date < datetime.date(2019,7,30)].tail(5)"
   ],
   "metadata": {
    "collapsed": false,
    "pycharm": {
     "name": "#%%\n"
    }
   }
  },
  {
   "cell_type": "code",
   "execution_count": 3,
   "outputs": [
    {
     "name": "stdout",
     "output_type": "stream",
     "text": [
      "<class 'pandas.core.frame.DataFrame'>\n",
      "RangeIndex: 1561743 entries, 0 to 1561742\n",
      "Data columns (total 14 columns):\n",
      " #   Column        Non-Null Count    Dtype  \n",
      "---  ------        --------------    -----  \n",
      " 0   Unnamed: 0    1561743 non-null  int64  \n",
      " 1   p_spot        1561743 non-null  bool   \n",
      " 2   p_place_type  1561743 non-null  int64  \n",
      " 3   datetime      1561743 non-null  object \n",
      " 4   b_number      1561743 non-null  int64  \n",
      " 5   trip          1561743 non-null  object \n",
      " 6   p_uid         1561743 non-null  int64  \n",
      " 7   p_bikes       1561743 non-null  int64  \n",
      " 8   p_lat         1561743 non-null  float64\n",
      " 9   b_bike_type   1561743 non-null  int64  \n",
      " 10  p_name        1561743 non-null  object \n",
      " 11  p_number      1561677 non-null  float64\n",
      " 12  p_lng         1561743 non-null  float64\n",
      " 13  p_bike        1561743 non-null  bool   \n",
      "dtypes: bool(2), float64(3), int64(6), object(3)\n",
      "memory usage: 146.0+ MB\n"
     ]
    }
   ],
   "source": [
    "import datetime\n",
    "df[df['datetime'].dt.date < datetime.date(2019,7,30)].tail(5)"
   ],
   "metadata": {
    "collapsed": false,
    "pycharm": {
     "name": "#%%\n"
    }
   }
  },
  {
   "cell_type": "code",
   "execution_count": 4,
   "outputs": [],
   "source": [
    "dfTrip = nextbike.io.createTrips(df)"
   ],
   "metadata": {
    "collapsed": false,
    "pycharm": {
     "name": "#%%\n"
    }
   }
  },
  {
   "cell_type": "code",
   "execution_count": 5,
   "outputs": [
    {
     "name": "stdout",
     "output_type": "stream",
     "text": [
      "<class 'pandas.core.frame.DataFrame'>\n",
      "RangeIndex: 630969 entries, 0 to 630968\n",
      "Data columns (total 12 columns):\n",
      " #   Column        Non-Null Count   Dtype          \n",
      "---  ------        --------------   -----          \n",
      " 0   bNumber       630969 non-null  int64          \n",
      " 1   sTime         630969 non-null  datetime64[ns] \n",
      " 2   eTime         630969 non-null  datetime64[ns] \n",
      " 3   duration      630969 non-null  timedelta64[ns]\n",
      " 4   sLong         630969 non-null  float64        \n",
      " 5   sLat          630969 non-null  float64        \n",
      " 6   eLong         630969 non-null  float64        \n",
      " 7   eLat          630969 non-null  float64        \n",
      " 8   weekend       630969 non-null  bool           \n",
      " 9   bType         630969 non-null  int64          \n",
      " 10  sPlaceNumber  630927 non-null  float64        \n",
      " 11  ePlaceNumber  630945 non-null  float64        \n",
      "dtypes: bool(1), datetime64[ns](2), float64(6), int64(2), timedelta64[ns](1)\n",
      "memory usage: 53.6 MB\n"
     ]
    }
   ],
   "source": [
    "dfTrip.info()"
   ],
   "metadata": {
    "collapsed": false,
    "pycharm": {
     "name": "#%%\n"
    }
   }
  },
  {
   "cell_type": "code",
   "execution_count": 6,
   "outputs": [
    {
     "data": {
      "text/plain": "          bNumber     sLong      sLat     eLong      eLat   weekend\nbNumber  1.000000 -0.032018 -0.000060 -0.053329 -0.000075  0.007727\nsLong   -0.032018  1.000000 -0.000078  0.144856  0.000035 -0.008809\nsLat    -0.000060 -0.000078  1.000000 -0.001608  0.353126  0.000251\neLong   -0.053329  0.144856 -0.001608  1.000000  0.000294 -0.019705\neLat    -0.000075  0.000035  0.353126  0.000294  1.000000 -0.001668\nweekend  0.007727 -0.008809  0.000251 -0.019705 -0.001668  1.000000",
      "text/html": "<div>\n<style scoped>\n    .dataframe tbody tr th:only-of-type {\n        vertical-align: middle;\n    }\n\n    .dataframe tbody tr th {\n        vertical-align: top;\n    }\n\n    .dataframe thead th {\n        text-align: right;\n    }\n</style>\n<table border=\"1\" class=\"dataframe\">\n  <thead>\n    <tr style=\"text-align: right;\">\n      <th></th>\n      <th>bNumber</th>\n      <th>sLong</th>\n      <th>sLat</th>\n      <th>eLong</th>\n      <th>eLat</th>\n      <th>weekend</th>\n    </tr>\n  </thead>\n  <tbody>\n    <tr>\n      <th>bNumber</th>\n      <td>1.000000</td>\n      <td>-0.032018</td>\n      <td>-0.000060</td>\n      <td>-0.053329</td>\n      <td>-0.000075</td>\n      <td>0.007727</td>\n    </tr>\n    <tr>\n      <th>sLong</th>\n      <td>-0.032018</td>\n      <td>1.000000</td>\n      <td>-0.000078</td>\n      <td>0.144856</td>\n      <td>0.000035</td>\n      <td>-0.008809</td>\n    </tr>\n    <tr>\n      <th>sLat</th>\n      <td>-0.000060</td>\n      <td>-0.000078</td>\n      <td>1.000000</td>\n      <td>-0.001608</td>\n      <td>0.353126</td>\n      <td>0.000251</td>\n    </tr>\n    <tr>\n      <th>eLong</th>\n      <td>-0.053329</td>\n      <td>0.144856</td>\n      <td>-0.001608</td>\n      <td>1.000000</td>\n      <td>0.000294</td>\n      <td>-0.019705</td>\n    </tr>\n    <tr>\n      <th>eLat</th>\n      <td>-0.000075</td>\n      <td>0.000035</td>\n      <td>0.353126</td>\n      <td>0.000294</td>\n      <td>1.000000</td>\n      <td>-0.001668</td>\n    </tr>\n    <tr>\n      <th>weekend</th>\n      <td>0.007727</td>\n      <td>-0.008809</td>\n      <td>0.000251</td>\n      <td>-0.019705</td>\n      <td>-0.001668</td>\n      <td>1.000000</td>\n    </tr>\n  </tbody>\n</table>\n</div>"
     },
     "execution_count": 6,
     "metadata": {},
     "output_type": "execute_result"
    }
   ],
   "source": [
    "# Create graphs and other data exploring tools.\n",
    "# No trips greater 1 day. Possible maximum billing duration.\n",
    "\n",
    "dfTrip.describe()"
   ],
   "metadata": {
    "collapsed": false,
    "pycharm": {
     "name": "#%%\n"
    }
   }
  },
  {
   "cell_type": "code",
   "execution_count": 16,
   "outputs": [
    {
     "data": {
      "text/plain": "1407.0"
     },
     "execution_count": 16,
     "metadata": {},
     "output_type": "execute_result"
    }
   ],
   "source": [
    "dfTrip.corr()"
   ],
   "metadata": {
    "collapsed": false,
    "pycharm": {
     "name": "#%%\n"
    }
   }
  },
  {
   "cell_type": "code",
   "execution_count": 13,
   "outputs": [
    {
     "data": {
      "text/plain": "630969"
     },
     "execution_count": 13,
     "metadata": {},
     "output_type": "execute_result"
    }
   ],
   "source": [
    "(dfTrip['duration'].dt.total_seconds()/60).max()"
   ],
   "metadata": {
    "collapsed": false,
    "pycharm": {
     "name": "#%%\n"
    }
   }
  },
  {
   "cell_type": "code",
   "execution_count": 7,
   "outputs": [
    {
     "data": {
      "text/plain": "   bNumber               sTime               eTime duration     sLong  \\\n0    11169 2019-01-20 01:55:00 2019-01-20 02:06:00 00:11:00  8.763266   \n1    11169 2019-01-20 08:15:00 2019-01-20 11:39:00 03:24:00  8.770358   \n2    11169 2019-01-20 11:58:00 2019-01-20 12:06:00 00:08:00  8.770358   \n3    11169 2019-01-20 15:12:00 2019-01-20 15:27:00 00:15:00  8.759248   \n4    11169 2019-01-20 15:39:00 2019-01-20 15:42:00 00:03:00  8.774681   \n\n        sLat     eLong       eLat  weekend         dist     speed  \n0  50.795224  8.770358  50.804522        1  1148.748684  6.265902  \n1  50.804522  8.770358  50.804522        1     0.000000  0.000000  \n2  50.804522  8.759248  50.804725        1   781.716856  5.862876  \n3  50.804725  8.774681  50.822927        1  2298.094514  9.192378  \n4  50.822927  8.774681  50.822927        1     0.000000  0.000000  ",
      "text/html": "<div>\n<style scoped>\n    .dataframe tbody tr th:only-of-type {\n        vertical-align: middle;\n    }\n\n    .dataframe tbody tr th {\n        vertical-align: top;\n    }\n\n    .dataframe thead th {\n        text-align: right;\n    }\n</style>\n<table border=\"1\" class=\"dataframe\">\n  <thead>\n    <tr style=\"text-align: right;\">\n      <th></th>\n      <th>bNumber</th>\n      <th>sTime</th>\n      <th>eTime</th>\n      <th>duration</th>\n      <th>sLong</th>\n      <th>sLat</th>\n      <th>eLong</th>\n      <th>eLat</th>\n      <th>weekend</th>\n      <th>dist</th>\n      <th>speed</th>\n    </tr>\n  </thead>\n  <tbody>\n    <tr>\n      <th>0</th>\n      <td>11169</td>\n      <td>2019-01-20 01:55:00</td>\n      <td>2019-01-20 02:06:00</td>\n      <td>00:11:00</td>\n      <td>8.763266</td>\n      <td>50.795224</td>\n      <td>8.770358</td>\n      <td>50.804522</td>\n      <td>1</td>\n      <td>1148.748684</td>\n      <td>6.265902</td>\n    </tr>\n    <tr>\n      <th>1</th>\n      <td>11169</td>\n      <td>2019-01-20 08:15:00</td>\n      <td>2019-01-20 11:39:00</td>\n      <td>03:24:00</td>\n      <td>8.770358</td>\n      <td>50.804522</td>\n      <td>8.770358</td>\n      <td>50.804522</td>\n      <td>1</td>\n      <td>0.000000</td>\n      <td>0.000000</td>\n    </tr>\n    <tr>\n      <th>2</th>\n      <td>11169</td>\n      <td>2019-01-20 11:58:00</td>\n      <td>2019-01-20 12:06:00</td>\n      <td>00:08:00</td>\n      <td>8.770358</td>\n      <td>50.804522</td>\n      <td>8.759248</td>\n      <td>50.804725</td>\n      <td>1</td>\n      <td>781.716856</td>\n      <td>5.862876</td>\n    </tr>\n    <tr>\n      <th>3</th>\n      <td>11169</td>\n      <td>2019-01-20 15:12:00</td>\n      <td>2019-01-20 15:27:00</td>\n      <td>00:15:00</td>\n      <td>8.759248</td>\n      <td>50.804725</td>\n      <td>8.774681</td>\n      <td>50.822927</td>\n      <td>1</td>\n      <td>2298.094514</td>\n      <td>9.192378</td>\n    </tr>\n    <tr>\n      <th>4</th>\n      <td>11169</td>\n      <td>2019-01-20 15:39:00</td>\n      <td>2019-01-20 15:42:00</td>\n      <td>00:03:00</td>\n      <td>8.774681</td>\n      <td>50.822927</td>\n      <td>8.774681</td>\n      <td>50.822927</td>\n      <td>1</td>\n      <td>0.000000</td>\n      <td>0.000000</td>\n    </tr>\n  </tbody>\n</table>\n</div>"
     },
     "execution_count": 7,
     "metadata": {},
     "output_type": "execute_result"
    }
   ],
   "source": [
    "dfTrip['duration'].count()"
   ],
   "metadata": {
    "collapsed": false,
    "pycharm": {
     "name": "#%%\n"
    }
   }
  },
  {
   "cell_type": "code",
   "execution_count": 8,
   "outputs": [
    {
     "data": {
      "text/plain": "(1, 20)"
     },
     "execution_count": 8,
     "metadata": {},
     "output_type": "execute_result"
    },
    {
     "data": {
      "text/plain": "<Figure size 720x720 with 2 Axes>",
      "image/png": "[encoded data removed]"
     },
     "metadata": {
      "needs_background": "light"
     },
     "output_type": "display_data"
    }
   ],
   "source": [
    "import math\n",
    "import numpy as np\n",
    "def calculateDist(df):\n",
    "    # Returns distance in meter. Input is df with four coordinates.\n",
    "    return calculateDistFromCord(df['sLong'],df['sLat'],df['eLong'],df['eLat'])\n",
    "# Imported to python from https://stackoverflow.com/questions/6366408/calculating-distance-between-two-latitude-and-longitude-geocoordinates/51839058#51839058\n",
    "\n",
    "def calculateDistFromCord(sLong,sLat,eLong,eLat):\n",
    "    # Returns distance in meter.\n",
    "    d1 = sLat * (math.pi / 180.0)\n",
    "    #d1 = np.float(d1)\n",
    "    d1 = d1.to_numpy()\n",
    "    num1 = sLong * (math.pi / 180.0)\n",
    "    num1 = num1.to_numpy()\n",
    "    d2 = eLat * (math.pi / 180.0)\n",
    "    d2 = d2.to_numpy()\n",
    "    num2 = eLong * (math.pi / 180.0) - num1\n",
    "    num2 = num2.to_numpy()\n",
    "    d3 = np.power(np.sin((d2 - d1) / 2.0), 2.0) + np.cos(d1) * np.cos(d2) * np.power(np.sin(num2 / 2.0), 2.0);\n",
    "\n",
    "    return 6376500.0 * (2.0 * np.arctan2(np.sqrt(d3), np.sqrt(1.0 - d3)))\n",
    "\n",
    "def calculateSpeed(df):\n",
    "    # Calculates km/h. Calculates distance from coordinates if no column named 'dist' is found.\n",
    "    try:\n",
    "        tempDist = df['dist']\n",
    "    except KeyError:\n",
    "        calculateDistFromCord(df['sLong'],df['sLat'],df['eLong'],df['eLat'])\n",
    "    return (tempDist/1000) / (df['duration'].dt.total_seconds()/60/60)\n",
    "\n",
    "\n",
    "import matplotlib.pyplot as plt\n",
    "import timeit\n",
    "#dfTrip = dfTrip[:5000]\n",
    "\n",
    "dfTrip['dist'] = calculateDist(dfTrip)\n",
    "dfTrip['speed'] = calculateSpeed(dfTrip)\n",
    "dfTrip.head()"
   ],
   "metadata": {
    "collapsed": false,
    "pycharm": {
     "name": "#%%\n"
    }
   }
  },
  {
   "cell_type": "code",
   "execution_count": 8,
   "outputs": [
    {
     "data": {
      "text/plain": "   bNumber               sTime               eTime duration     sLong  \\\n0    11169 2019-01-20 01:55:00 2019-01-20 02:06:00 00:11:00  8.763266   \n1    11169 2019-01-20 08:15:00 2019-01-20 11:39:00 03:24:00  8.770358   \n2    11169 2019-01-20 11:58:00 2019-01-20 12:06:00 00:08:00  8.770358   \n3    11169 2019-01-20 15:12:00 2019-01-20 15:27:00 00:15:00  8.759248   \n4    11169 2019-01-20 15:39:00 2019-01-20 15:42:00 00:03:00  8.774681   \n\n        sLat     eLong       eLat  weekend         dist     speed  \n0  50.795224  8.770358  50.804522        1  1148.748684  6.265902  \n1  50.804522  8.770358  50.804522        1     0.000000  0.000000  \n2  50.804522  8.759248  50.804725        1   781.716856  5.862876  \n3  50.804725  8.774681  50.822927        1  2298.094514  9.192378  \n4  50.822927  8.774681  50.822927        1     0.000000  0.000000  ",
      "text/html": "<div>\n<style scoped>\n    .dataframe tbody tr th:only-of-type {\n        vertical-align: middle;\n    }\n\n    .dataframe tbody tr th {\n        vertical-align: top;\n    }\n\n    .dataframe thead th {\n        text-align: right;\n    }\n</style>\n<table border=\"1\" class=\"dataframe\">\n  <thead>\n    <tr style=\"text-align: right;\">\n      <th></th>\n      <th>bNumber</th>\n      <th>sTime</th>\n      <th>eTime</th>\n      <th>duration</th>\n      <th>sLong</th>\n      <th>sLat</th>\n      <th>eLong</th>\n      <th>eLat</th>\n      <th>weekend</th>\n      <th>dist</th>\n      <th>speed</th>\n    </tr>\n  </thead>\n  <tbody>\n    <tr>\n      <th>0</th>\n      <td>11169</td>\n      <td>2019-01-20 01:55:00</td>\n      <td>2019-01-20 02:06:00</td>\n      <td>00:11:00</td>\n      <td>8.763266</td>\n      <td>50.795224</td>\n      <td>8.770358</td>\n      <td>50.804522</td>\n      <td>1</td>\n      <td>1148.748684</td>\n      <td>6.265902</td>\n    </tr>\n    <tr>\n      <th>1</th>\n      <td>11169</td>\n      <td>2019-01-20 08:15:00</td>\n      <td>2019-01-20 11:39:00</td>\n      <td>03:24:00</td>\n      <td>8.770358</td>\n      <td>50.804522</td>\n      <td>8.770358</td>\n      <td>50.804522</td>\n      <td>1</td>\n      <td>0.000000</td>\n      <td>0.000000</td>\n    </tr>\n    <tr>\n      <th>2</th>\n      <td>11169</td>\n      <td>2019-01-20 11:58:00</td>\n      <td>2019-01-20 12:06:00</td>\n      <td>00:08:00</td>\n      <td>8.770358</td>\n      <td>50.804522</td>\n      <td>8.759248</td>\n      <td>50.804725</td>\n      <td>1</td>\n      <td>781.716856</td>\n      <td>5.862876</td>\n    </tr>\n    <tr>\n      <th>3</th>\n      <td>11169</td>\n      <td>2019-01-20 15:12:00</td>\n      <td>2019-01-20 15:27:00</td>\n      <td>00:15:00</td>\n      <td>8.759248</td>\n      <td>50.804725</td>\n      <td>8.774681</td>\n      <td>50.822927</td>\n      <td>1</td>\n      <td>2298.094514</td>\n      <td>9.192378</td>\n    </tr>\n    <tr>\n      <th>4</th>\n      <td>11169</td>\n      <td>2019-01-20 15:39:00</td>\n      <td>2019-01-20 15:42:00</td>\n      <td>00:03:00</td>\n      <td>8.774681</td>\n      <td>50.822927</td>\n      <td>8.774681</td>\n      <td>50.822927</td>\n      <td>1</td>\n      <td>0.000000</td>\n      <td>0.000000</td>\n    </tr>\n  </tbody>\n</table>\n</div>"
     },
     "execution_count": 8,
     "metadata": {},
     "output_type": "execute_result"
    }
   ],
   "source": [
    "fig, (ax1,ax2) = plt.subplots(2,1,sharey=False,figsize=(10,10) )\n",
    "#ax1, ax2 = ax[0],ax[1]\n",
    "ax1.hist(x=(dfTrip['duration'].dt.total_seconds()/60),bins=100,range= [4,1000])\n",
    "hist2 = ax2.hist2d(x=dfTrip['dist']/1000, y=dfTrip['speed'],bins=100,range=[[0.5,10],[1,20]])\n",
    "ax2.set_xlim(0.5,4.5)\n",
    "ax2.set_ylim(1,20)\n",
    "#fig.colorbar('test' ,cax= ax2)"
   ],
   "metadata": {
    "collapsed": false,
    "pycharm": {
     "name": "#%%\n"
    }
   }
  },
  {
   "cell_type": "code",
   "execution_count": 17,
   "outputs": [
    {
     "data": {
      "text/plain": "count     630969.000000\nmean           5.613305\nstd          387.148383\nmin            0.000000\n1%             0.000000\n5%             0.000000\n25%            0.000000\n50%            2.909921\n75%            6.137773\n95%            9.597976\n99.9%         17.711870\n99.99%      1002.519579\nmax       109506.582430\nName: speed, dtype: float64"
     },
     "execution_count": 17,
     "metadata": {},
     "output_type": "execute_result"
    }
   ],
   "source": [
    "dfTrip.head()\n",
    "\n"
   ],
   "metadata": {
    "collapsed": false,
    "pycharm": {
     "name": "#%%\n"
    }
   }
  },
  {
   "cell_type": "code",
   "execution_count": 97,
   "outputs": [
    {
     "data": {
      "text/plain": "     bNumber               sTime               eTime duration    sLong  \\\n444    11168 2019-01-21 11:08:00 2019-01-21 11:11:00 00:03:00  8.75971   \n\n          sLat     eLong       eLat  weekend         dist      speed  \n444  50.836672  8.776735  50.808887        0  3315.779286  66.315586  ",
      "text/html": "<div>\n<style scoped>\n    .dataframe tbody tr th:only-of-type {\n        vertical-align: middle;\n    }\n\n    .dataframe tbody tr th {\n        vertical-align: top;\n    }\n\n    .dataframe thead th {\n        text-align: right;\n    }\n</style>\n<table border=\"1\" class=\"dataframe\">\n  <thead>\n    <tr style=\"text-align: right;\">\n      <th></th>\n      <th>bNumber</th>\n      <th>sTime</th>\n      <th>eTime</th>\n      <th>duration</th>\n      <th>sLong</th>\n      <th>sLat</th>\n      <th>eLong</th>\n      <th>eLat</th>\n      <th>weekend</th>\n      <th>dist</th>\n      <th>speed</th>\n    </tr>\n  </thead>\n  <tbody>\n    <tr>\n      <th>444</th>\n      <td>11168</td>\n      <td>2019-01-21 11:08:00</td>\n      <td>2019-01-21 11:11:00</td>\n      <td>00:03:00</td>\n      <td>8.75971</td>\n      <td>50.836672</td>\n      <td>8.776735</td>\n      <td>50.808887</td>\n      <td>0</td>\n      <td>3315.779286</td>\n      <td>66.315586</td>\n    </tr>\n  </tbody>\n</table>\n</div>"
     },
     "execution_count": 97,
     "metadata": {},
     "output_type": "execute_result"
    }
   ],
   "source": [
    "dfTrip['speed'].describe(percentiles=[0.01,0.05,0.25,0.75,0.95,0.999,0.9999])"
   ],
   "metadata": {
    "collapsed": false,
    "pycharm": {
     "name": "#%%\n"
    }
   }
  },
  {
   "cell_type": "code",
   "execution_count": 108,
   "outputs": [
    {
     "data": {
      "text/plain": "      p_spot  p_place_type            datetime  b_number   trip     p_uid  \\\n248     True             0 2019-01-20 00:00:00     11168  first   4774572   \n249     True             0 2019-01-20 23:59:00     11168   last   4774572   \n1281    True             0 2019-01-21 00:00:00     11168  first   4774572   \n1282    True             0 2019-01-21 08:29:00     11168  start   4774572   \n1283   False            12 2019-01-21 08:31:00     11168    end  12129994   \n1284   False            12 2019-01-21 11:08:00     11168  start  12129994   \n1285   False            12 2019-01-21 11:11:00     11168    end  12133014   \n1286   False            12 2019-01-21 11:47:00     11168  start  12133014   \n1287    True             0 2019-01-21 11:56:00     11168    end   4774470   \n1288    True             0 2019-01-21 11:57:00     11168  start   4774470   \n1289    True             0 2019-01-21 13:17:00     11168    end   6666288   \n1290    True             0 2019-01-21 13:47:00     11168  start   6666288   \n1291    True             0 2019-01-21 14:23:00     11168    end   6666288   \n1292    True             0 2019-01-21 15:43:00     11168  start   6666288   \n1293    True             0 2019-01-21 15:46:00     11168    end   4774295   \n1294    True             0 2019-01-21 15:55:00     11168  start   4774295   \n1295   False            12 2019-01-21 16:00:00     11168    end  12139138   \n1296   False            12 2019-01-21 16:18:00     11168  start  12139138   \n1297   False            12 2019-01-21 16:25:00     11168    end  12139751   \n1298   False            12 2019-01-21 19:40:00     11168  start  12139751   \n1299   False            12 2019-01-21 19:42:00     11168    end  12143758   \n1300   False            12 2019-01-21 23:59:00     11168   last  12143758   \n2533   False            12 2019-01-22 00:00:00     11168  first  12143758   \n2534   False            12 2019-01-22 11:42:00     11168  start  12143758   \n2535    True             0 2019-01-22 20:05:00     11168    end   4774305   \n2536    True             0 2019-01-22 20:35:00     11168  start   4774305   \n2537    True             0 2019-01-22 20:55:00     11168    end   4774305   \n2538    True             0 2019-01-22 23:59:00     11168   last   4774305   \n3653    True             0 2019-01-23 00:00:00     11168  first   4774305   \n3654    True             0 2019-01-23 12:52:00     11168  start   4774305   \n3655    True             0 2019-01-23 12:55:00     11168    end   4774305   \n3656    True             0 2019-01-23 23:18:00     11168   last   4774305   \n4990    True             0 2019-01-24 00:17:00     11168  first   4774305   \n4991    True             0 2019-01-24 06:33:00     11168  start   4774305   \n4992    True             0 2019-01-24 07:04:00     11168    end   4774305   \n4993    True             0 2019-01-24 09:00:00     11168  start   4774305   \n4994    True             0 2019-01-24 09:02:00     11168    end   4774305   \n4995    True             0 2019-01-24 09:15:00     11168  start   4774305   \n4996    True             0 2019-01-24 09:17:00     11168    end   4774305   \n4997    True             0 2019-01-24 09:52:00     11168   last   4774305   \n6238    True             0 2019-01-25 14:35:00     11168  first   6666288   \n6239    True             0 2019-01-25 14:39:00     11168  start   6666288   \n6240    True             0 2019-01-25 14:59:00     11168    end   6666288   \n6241    True             0 2019-01-25 15:08:00     11168  start   6666288   \n6242    True             0 2019-01-25 16:02:00     11168    end   6666288   \n6243    True             0 2019-01-25 17:40:00     11168  start   6666288   \n6244    True             0 2019-01-25 17:47:00     11168    end   4774368   \n6245    True             0 2019-01-25 19:10:00     11168  start   4774368   \n6246    True             0 2019-01-25 22:14:00     11168    end   4774368   \n6247    True             0 2019-01-25 23:59:00     11168   last   4774368   \n\n      p_bikes      p_lat  b_bike_type                          p_name  \\\n248         4  50.836178           15               Wehrda Bürgerhaus   \n249         5  50.836178           15               Wehrda Bürgerhaus   \n1281        5  50.836178           15               Wehrda Bürgerhaus   \n1282        5  50.836178           15               Wehrda Bürgerhaus   \n1283        1  50.836672           15                      BIKE 11168   \n1284        1  50.836672           15                      BIKE 11168   \n1285        1  50.808887           15                      BIKE 11168   \n1286        1  50.808887           15                      BIKE 11168   \n1287        1  50.819957           15                    Hauptbahnhof   \n1288        1  50.819957           15                    Hauptbahnhof   \n1289        5  50.813691           15     Neue Universitätsbibliothek   \n1290        5  50.813691           15     Neue Universitätsbibliothek   \n1291        5  50.813691           15     Neue Universitätsbibliothek   \n1292        5  50.813691           15     Neue Universitätsbibliothek   \n1293        5  50.808852           15           Biegenstraße/Cineplex   \n1294        5  50.808852           15           Biegenstraße/Cineplex   \n1295        1  50.812986           15                      BIKE 11168   \n1296        1  50.812986           15                      BIKE 11168   \n1297        1  50.808972           15                      BIKE 11168   \n1298        1  50.808972           15                      BIKE 11168   \n1299        1  50.808927           15                      BIKE 11168   \n1300        1  50.808927           15                      BIKE 11168   \n2533        1  50.808927           15                      BIKE 11168   \n2534        1  50.808927           15                      BIKE 11168   \n2535        5  50.813203           15    Biegenstraße/Volkshochschule   \n2536        5  50.813203           15    Biegenstraße/Volkshochschule   \n2537        5  50.813203           15    Biegenstraße/Volkshochschule   \n2538        3  50.813203           15    Biegenstraße/Volkshochschule   \n3653        3  50.813203           15    Biegenstraße/Volkshochschule   \n3654        4  50.813203           15    Biegenstraße/Volkshochschule   \n3655        4  50.813203           15    Biegenstraße/Volkshochschule   \n3656        5  50.813203           15    Biegenstraße/Volkshochschule   \n4990        5  50.813203           15    Biegenstraße/Volkshochschule   \n4991        5  50.813203           15    Biegenstraße/Volkshochschule   \n4992        5  50.813203           15    Biegenstraße/Volkshochschule   \n4993        5  50.813203           15    Biegenstraße/Volkshochschule   \n4994        5  50.813203           15    Biegenstraße/Volkshochschule   \n4995        5  50.813203           15    Biegenstraße/Volkshochschule   \n4996        5  50.813203           15    Biegenstraße/Volkshochschule   \n4997        5  50.813203           15    Biegenstraße/Volkshochschule   \n6238        5  50.813691           15     Neue Universitätsbibliothek   \n6239        5  50.813691           15     Neue Universitätsbibliothek   \n6240        5  50.813691           15     Neue Universitätsbibliothek   \n6241        5  50.813691           15     Neue Universitätsbibliothek   \n6242        5  50.813691           15     Neue Universitätsbibliothek   \n6243        5  50.813691           15     Neue Universitätsbibliothek   \n6244        1  50.804522           15  Frankfurter Straße/Psychologie   \n6245        5  50.804522           15  Frankfurter Straße/Psychologie   \n6246        5  50.804522           15  Frankfurter Straße/Psychologie   \n6247        5  50.804522           15  Frankfurter Straße/Psychologie   \n\n      p_number     p_lng  p_bike  \n248     5177.0  8.756796   False  \n249     5177.0  8.756796   False  \n1281    5177.0  8.756796   False  \n1282    5177.0  8.756796   False  \n1283       0.0  8.759710    True  \n1284       0.0  8.759710    True  \n1285       0.0  8.776735    True  \n1286       0.0  8.776735    True  \n1287    5165.0  8.773736   False  \n1288    5165.0  8.773736   False  \n1289    5145.0  8.770734   False  \n1290    5145.0  8.770734   False  \n1291    5145.0  8.770734   False  \n1292    5145.0  8.770734   False  \n1293    5155.0  8.773134   False  \n1294    5155.0  8.773134   False  \n1295       0.0  8.774304    True  \n1296       0.0  8.774304    True  \n1297       0.0  8.777023    True  \n1298       0.0  8.777023    True  \n1299       0.0  8.776987    True  \n1300       0.0  8.776987    True  \n2533       0.0  8.776987    True  \n2534       0.0  8.776987    True  \n2535    5156.0  8.775948   False  \n2536    5156.0  8.775948   False  \n2537    5156.0  8.775948   False  \n2538    5156.0  8.775948   False  \n3653    5156.0  8.775948   False  \n3654    5156.0  8.775948   False  \n3655    5156.0  8.775948   False  \n3656    5156.0  8.775948   False  \n4990    5156.0  8.775948   False  \n4991    5156.0  8.775948   False  \n4992    5156.0  8.775948   False  \n4993    5156.0  8.775948   False  \n4994    5156.0  8.775948   False  \n4995    5156.0  8.775948   False  \n4996    5156.0  8.775948   False  \n4997    5156.0  8.775948   False  \n6238    5145.0  8.770734   False  \n6239    5145.0  8.770734   False  \n6240    5145.0  8.770734   False  \n6241    5145.0  8.770734   False  \n6242    5145.0  8.770734   False  \n6243    5145.0  8.770734   False  \n6244    5159.0  8.770358   False  \n6245    5159.0  8.770358   False  \n6246    5159.0  8.770358   False  \n6247    5159.0  8.770358   False  ",
      "text/html": "<div>\n<style scoped>\n    .dataframe tbody tr th:only-of-type {\n        vertical-align: middle;\n    }\n\n    .dataframe tbody tr th {\n        vertical-align: top;\n    }\n\n    .dataframe thead th {\n        text-align: right;\n    }\n</style>\n<table border=\"1\" class=\"dataframe\">\n  <thead>\n    <tr style=\"text-align: right;\">\n      <th></th>\n      <th>p_spot</th>\n      <th>p_place_type</th>\n      <th>datetime</th>\n      <th>b_number</th>\n      <th>trip</th>\n      <th>p_uid</th>\n      <th>p_bikes</th>\n      <th>p_lat</th>\n      <th>b_bike_type</th>\n      <th>p_name</th>\n      <th>p_number</th>\n      <th>p_lng</th>\n      <th>p_bike</th>\n    </tr>\n  </thead>\n  <tbody>\n    <tr>\n      <th>248</th>\n      <td>True</td>\n      <td>0</td>\n      <td>2019-01-20 00:00:00</td>\n      <td>11168</td>\n      <td>first</td>\n      <td>4774572</td>\n      <td>4</td>\n      <td>50.836178</td>\n      <td>15</td>\n      <td>Wehrda Bürgerhaus</td>\n      <td>5177.0</td>\n      <td>8.756796</td>\n      <td>False</td>\n    </tr>\n    <tr>\n      <th>249</th>\n      <td>True</td>\n      <td>0</td>\n      <td>2019-01-20 23:59:00</td>\n      <td>11168</td>\n      <td>last</td>\n      <td>4774572</td>\n      <td>5</td>\n      <td>50.836178</td>\n      <td>15</td>\n      <td>Wehrda Bürgerhaus</td>\n      <td>5177.0</td>\n      <td>8.756796</td>\n      <td>False</td>\n    </tr>\n    <tr>\n      <th>1281</th>\n      <td>True</td>\n      <td>0</td>\n      <td>2019-01-21 00:00:00</td>\n      <td>11168</td>\n      <td>first</td>\n      <td>4774572</td>\n      <td>5</td>\n      <td>50.836178</td>\n      <td>15</td>\n      <td>Wehrda Bürgerhaus</td>\n      <td>5177.0</td>\n      <td>8.756796</td>\n      <td>False</td>\n    </tr>\n    <tr>\n      <th>1282</th>\n      <td>True</td>\n      <td>0</td>\n      <td>2019-01-21 08:29:00</td>\n      <td>11168</td>\n      <td>start</td>\n      <td>4774572</td>\n      <td>5</td>\n      <td>50.836178</td>\n      <td>15</td>\n      <td>Wehrda Bürgerhaus</td>\n      <td>5177.0</td>\n      <td>8.756796</td>\n      <td>False</td>\n    </tr>\n    <tr>\n      <th>1283</th>\n      <td>False</td>\n      <td>12</td>\n      <td>2019-01-21 08:31:00</td>\n      <td>11168</td>\n      <td>end</td>\n      <td>12129994</td>\n      <td>1</td>\n      <td>50.836672</td>\n      <td>15</td>\n      <td>BIKE 11168</td>\n      <td>0.0</td>\n      <td>8.759710</td>\n      <td>True</td>\n    </tr>\n    <tr>\n      <th>1284</th>\n      <td>False</td>\n      <td>12</td>\n      <td>2019-01-21 11:08:00</td>\n      <td>11168</td>\n      <td>start</td>\n      <td>12129994</td>\n      <td>1</td>\n      <td>50.836672</td>\n      <td>15</td>\n      <td>BIKE 11168</td>\n      <td>0.0</td>\n      <td>8.759710</td>\n      <td>True</td>\n    </tr>\n    <tr>\n      <th>1285</th>\n      <td>False</td>\n      <td>12</td>\n      <td>2019-01-21 11:11:00</td>\n      <td>11168</td>\n      <td>end</td>\n      <td>12133014</td>\n      <td>1</td>\n      <td>50.808887</td>\n      <td>15</td>\n      <td>BIKE 11168</td>\n      <td>0.0</td>\n      <td>8.776735</td>\n      <td>True</td>\n    </tr>\n    <tr>\n      <th>1286</th>\n      <td>False</td>\n      <td>12</td>\n      <td>2019-01-21 11:47:00</td>\n      <td>11168</td>\n      <td>start</td>\n      <td>12133014</td>\n      <td>1</td>\n      <td>50.808887</td>\n      <td>15</td>\n      <td>BIKE 11168</td>\n      <td>0.0</td>\n      <td>8.776735</td>\n      <td>True</td>\n    </tr>\n    <tr>\n      <th>1287</th>\n      <td>True</td>\n      <td>0</td>\n      <td>2019-01-21 11:56:00</td>\n      <td>11168</td>\n      <td>end</td>\n      <td>4774470</td>\n      <td>1</td>\n      <td>50.819957</td>\n      <td>15</td>\n      <td>Hauptbahnhof</td>\n      <td>5165.0</td>\n      <td>8.773736</td>\n      <td>False</td>\n    </tr>\n    <tr>\n      <th>1288</th>\n      <td>True</td>\n      <td>0</td>\n      <td>2019-01-21 11:57:00</td>\n      <td>11168</td>\n      <td>start</td>\n      <td>4774470</td>\n      <td>1</td>\n      <td>50.819957</td>\n      <td>15</td>\n      <td>Hauptbahnhof</td>\n      <td>5165.0</td>\n      <td>8.773736</td>\n      <td>False</td>\n    </tr>\n    <tr>\n      <th>1289</th>\n      <td>True</td>\n      <td>0</td>\n      <td>2019-01-21 13:17:00</td>\n      <td>11168</td>\n      <td>end</td>\n      <td>6666288</td>\n      <td>5</td>\n      <td>50.813691</td>\n      <td>15</td>\n      <td>Neue Universitätsbibliothek</td>\n      <td>5145.0</td>\n      <td>8.770734</td>\n      <td>False</td>\n    </tr>\n    <tr>\n      <th>1290</th>\n      <td>True</td>\n      <td>0</td>\n      <td>2019-01-21 13:47:00</td>\n      <td>11168</td>\n      <td>start</td>\n      <td>6666288</td>\n      <td>5</td>\n      <td>50.813691</td>\n      <td>15</td>\n      <td>Neue Universitätsbibliothek</td>\n      <td>5145.0</td>\n      <td>8.770734</td>\n      <td>False</td>\n    </tr>\n    <tr>\n      <th>1291</th>\n      <td>True</td>\n      <td>0</td>\n      <td>2019-01-21 14:23:00</td>\n      <td>11168</td>\n      <td>end</td>\n      <td>6666288</td>\n      <td>5</td>\n      <td>50.813691</td>\n      <td>15</td>\n      <td>Neue Universitätsbibliothek</td>\n      <td>5145.0</td>\n      <td>8.770734</td>\n      <td>False</td>\n    </tr>\n    <tr>\n      <th>1292</th>\n      <td>True</td>\n      <td>0</td>\n      <td>2019-01-21 15:43:00</td>\n      <td>11168</td>\n      <td>start</td>\n      <td>6666288</td>\n      <td>5</td>\n      <td>50.813691</td>\n      <td>15</td>\n      <td>Neue Universitätsbibliothek</td>\n      <td>5145.0</td>\n      <td>8.770734</td>\n      <td>False</td>\n    </tr>\n    <tr>\n      <th>1293</th>\n      <td>True</td>\n      <td>0</td>\n      <td>2019-01-21 15:46:00</td>\n      <td>11168</td>\n      <td>end</td>\n      <td>4774295</td>\n      <td>5</td>\n      <td>50.808852</td>\n      <td>15</td>\n      <td>Biegenstraße/Cineplex</td>\n      <td>5155.0</td>\n      <td>8.773134</td>\n      <td>False</td>\n    </tr>\n    <tr>\n      <th>1294</th>\n      <td>True</td>\n      <td>0</td>\n      <td>2019-01-21 15:55:00</td>\n      <td>11168</td>\n      <td>start</td>\n      <td>4774295</td>\n      <td>5</td>\n      <td>50.808852</td>\n      <td>15</td>\n      <td>Biegenstraße/Cineplex</td>\n      <td>5155.0</td>\n      <td>8.773134</td>\n      <td>False</td>\n    </tr>\n    <tr>\n      <th>1295</th>\n      <td>False</td>\n      <td>12</td>\n      <td>2019-01-21 16:00:00</td>\n      <td>11168</td>\n      <td>end</td>\n      <td>12139138</td>\n      <td>1</td>\n      <td>50.812986</td>\n      <td>15</td>\n      <td>BIKE 11168</td>\n      <td>0.0</td>\n      <td>8.774304</td>\n      <td>True</td>\n    </tr>\n    <tr>\n      <th>1296</th>\n      <td>False</td>\n      <td>12</td>\n      <td>2019-01-21 16:18:00</td>\n      <td>11168</td>\n      <td>start</td>\n      <td>12139138</td>\n      <td>1</td>\n      <td>50.812986</td>\n      <td>15</td>\n      <td>BIKE 11168</td>\n      <td>0.0</td>\n      <td>8.774304</td>\n      <td>True</td>\n    </tr>\n    <tr>\n      <th>1297</th>\n      <td>False</td>\n      <td>12</td>\n      <td>2019-01-21 16:25:00</td>\n      <td>11168</td>\n      <td>end</td>\n      <td>12139751</td>\n      <td>1</td>\n      <td>50.808972</td>\n      <td>15</td>\n      <td>BIKE 11168</td>\n      <td>0.0</td>\n      <td>8.777023</td>\n      <td>True</td>\n    </tr>\n    <tr>\n      <th>1298</th>\n      <td>False</td>\n      <td>12</td>\n      <td>2019-01-21 19:40:00</td>\n      <td>11168</td>\n      <td>start</td>\n      <td>12139751</td>\n      <td>1</td>\n      <td>50.808972</td>\n      <td>15</td>\n      <td>BIKE 11168</td>\n      <td>0.0</td>\n      <td>8.777023</td>\n      <td>True</td>\n    </tr>\n    <tr>\n      <th>1299</th>\n      <td>False</td>\n      <td>12</td>\n      <td>2019-01-21 19:42:00</td>\n      <td>11168</td>\n      <td>end</td>\n      <td>12143758</td>\n      <td>1</td>\n      <td>50.808927</td>\n      <td>15</td>\n      <td>BIKE 11168</td>\n      <td>0.0</td>\n      <td>8.776987</td>\n      <td>True</td>\n    </tr>\n    <tr>\n      <th>1300</th>\n      <td>False</td>\n      <td>12</td>\n      <td>2019-01-21 23:59:00</td>\n      <td>11168</td>\n      <td>last</td>\n      <td>12143758</td>\n      <td>1</td>\n      <td>50.808927</td>\n      <td>15</td>\n      <td>BIKE 11168</td>\n      <td>0.0</td>\n      <td>8.776987</td>\n      <td>True</td>\n    </tr>\n    <tr>\n      <th>2533</th>\n      <td>False</td>\n      <td>12</td>\n      <td>2019-01-22 00:00:00</td>\n      <td>11168</td>\n      <td>first</td>\n      <td>12143758</td>\n      <td>1</td>\n      <td>50.808927</td>\n      <td>15</td>\n      <td>BIKE 11168</td>\n      <td>0.0</td>\n      <td>8.776987</td>\n      <td>True</td>\n    </tr>\n    <tr>\n      <th>2534</th>\n      <td>False</td>\n      <td>12</td>\n      <td>2019-01-22 11:42:00</td>\n      <td>11168</td>\n      <td>start</td>\n      <td>12143758</td>\n      <td>1</td>\n      <td>50.808927</td>\n      <td>15</td>\n      <td>BIKE 11168</td>\n      <td>0.0</td>\n      <td>8.776987</td>\n      <td>True</td>\n    </tr>\n    <tr>\n      <th>2535</th>\n      <td>True</td>\n      <td>0</td>\n      <td>2019-01-22 20:05:00</td>\n      <td>11168</td>\n      <td>end</td>\n      <td>4774305</td>\n      <td>5</td>\n      <td>50.813203</td>\n      <td>15</td>\n      <td>Biegenstraße/Volkshochschule</td>\n      <td>5156.0</td>\n      <td>8.775948</td>\n      <td>False</td>\n    </tr>\n    <tr>\n      <th>2536</th>\n      <td>True</td>\n      <td>0</td>\n      <td>2019-01-22 20:35:00</td>\n      <td>11168</td>\n      <td>start</td>\n      <td>4774305</td>\n      <td>5</td>\n      <td>50.813203</td>\n      <td>15</td>\n      <td>Biegenstraße/Volkshochschule</td>\n      <td>5156.0</td>\n      <td>8.775948</td>\n      <td>False</td>\n    </tr>\n    <tr>\n      <th>2537</th>\n      <td>True</td>\n      <td>0</td>\n      <td>2019-01-22 20:55:00</td>\n      <td>11168</td>\n      <td>end</td>\n      <td>4774305</td>\n      <td>5</td>\n      <td>50.813203</td>\n      <td>15</td>\n      <td>Biegenstraße/Volkshochschule</td>\n      <td>5156.0</td>\n      <td>8.775948</td>\n      <td>False</td>\n    </tr>\n    <tr>\n      <th>2538</th>\n      <td>True</td>\n      <td>0</td>\n      <td>2019-01-22 23:59:00</td>\n      <td>11168</td>\n      <td>last</td>\n      <td>4774305</td>\n      <td>3</td>\n      <td>50.813203</td>\n      <td>15</td>\n      <td>Biegenstraße/Volkshochschule</td>\n      <td>5156.0</td>\n      <td>8.775948</td>\n      <td>False</td>\n    </tr>\n    <tr>\n      <th>3653</th>\n      <td>True</td>\n      <td>0</td>\n      <td>2019-01-23 00:00:00</td>\n      <td>11168</td>\n      <td>first</td>\n      <td>4774305</td>\n      <td>3</td>\n      <td>50.813203</td>\n      <td>15</td>\n      <td>Biegenstraße/Volkshochschule</td>\n      <td>5156.0</td>\n      <td>8.775948</td>\n      <td>False</td>\n    </tr>\n    <tr>\n      <th>3654</th>\n      <td>True</td>\n      <td>0</td>\n      <td>2019-01-23 12:52:00</td>\n      <td>11168</td>\n      <td>start</td>\n      <td>4774305</td>\n      <td>4</td>\n      <td>50.813203</td>\n      <td>15</td>\n      <td>Biegenstraße/Volkshochschule</td>\n      <td>5156.0</td>\n      <td>8.775948</td>\n      <td>False</td>\n    </tr>\n    <tr>\n      <th>3655</th>\n      <td>True</td>\n      <td>0</td>\n      <td>2019-01-23 12:55:00</td>\n      <td>11168</td>\n      <td>end</td>\n      <td>4774305</td>\n      <td>4</td>\n      <td>50.813203</td>\n      <td>15</td>\n      <td>Biegenstraße/Volkshochschule</td>\n      <td>5156.0</td>\n      <td>8.775948</td>\n      <td>False</td>\n    </tr>\n    <tr>\n      <th>3656</th>\n      <td>True</td>\n      <td>0</td>\n      <td>2019-01-23 23:18:00</td>\n      <td>11168</td>\n      <td>last</td>\n      <td>4774305</td>\n      <td>5</td>\n      <td>50.813203</td>\n      <td>15</td>\n      <td>Biegenstraße/Volkshochschule</td>\n      <td>5156.0</td>\n      <td>8.775948</td>\n      <td>False</td>\n    </tr>\n    <tr>\n      <th>4990</th>\n      <td>True</td>\n      <td>0</td>\n      <td>2019-01-24 00:17:00</td>\n      <td>11168</td>\n      <td>first</td>\n      <td>4774305</td>\n      <td>5</td>\n      <td>50.813203</td>\n      <td>15</td>\n      <td>Biegenstraße/Volkshochschule</td>\n      <td>5156.0</td>\n      <td>8.775948</td>\n      <td>False</td>\n    </tr>\n    <tr>\n      <th>4991</th>\n      <td>True</td>\n      <td>0</td>\n      <td>2019-01-24 06:33:00</td>\n      <td>11168</td>\n      <td>start</td>\n      <td>4774305</td>\n      <td>5</td>\n      <td>50.813203</td>\n      <td>15</td>\n      <td>Biegenstraße/Volkshochschule</td>\n      <td>5156.0</td>\n      <td>8.775948</td>\n      <td>False</td>\n    </tr>\n    <tr>\n      <th>4992</th>\n      <td>True</td>\n      <td>0</td>\n      <td>2019-01-24 07:04:00</td>\n      <td>11168</td>\n      <td>end</td>\n      <td>4774305</td>\n      <td>5</td>\n      <td>50.813203</td>\n      <td>15</td>\n      <td>Biegenstraße/Volkshochschule</td>\n      <td>5156.0</td>\n      <td>8.775948</td>\n      <td>False</td>\n    </tr>\n    <tr>\n      <th>4993</th>\n      <td>True</td>\n      <td>0</td>\n      <td>2019-01-24 09:00:00</td>\n      <td>11168</td>\n      <td>start</td>\n      <td>4774305</td>\n      <td>5</td>\n      <td>50.813203</td>\n      <td>15</td>\n      <td>Biegenstraße/Volkshochschule</td>\n      <td>5156.0</td>\n      <td>8.775948</td>\n      <td>False</td>\n    </tr>\n    <tr>\n      <th>4994</th>\n      <td>True</td>\n      <td>0</td>\n      <td>2019-01-24 09:02:00</td>\n      <td>11168</td>\n      <td>end</td>\n      <td>4774305</td>\n      <td>5</td>\n      <td>50.813203</td>\n      <td>15</td>\n      <td>Biegenstraße/Volkshochschule</td>\n      <td>5156.0</td>\n      <td>8.775948</td>\n      <td>False</td>\n    </tr>\n    <tr>\n      <th>4995</th>\n      <td>True</td>\n      <td>0</td>\n      <td>2019-01-24 09:15:00</td>\n      <td>11168</td>\n      <td>start</td>\n      <td>4774305</td>\n      <td>5</td>\n      <td>50.813203</td>\n      <td>15</td>\n      <td>Biegenstraße/Volkshochschule</td>\n      <td>5156.0</td>\n      <td>8.775948</td>\n      <td>False</td>\n    </tr>\n    <tr>\n      <th>4996</th>\n      <td>True</td>\n      <td>0</td>\n      <td>2019-01-24 09:17:00</td>\n      <td>11168</td>\n      <td>end</td>\n      <td>4774305</td>\n      <td>5</td>\n      <td>50.813203</td>\n      <td>15</td>\n      <td>Biegenstraße/Volkshochschule</td>\n      <td>5156.0</td>\n      <td>8.775948</td>\n      <td>False</td>\n    </tr>\n    <tr>\n      <th>4997</th>\n      <td>True</td>\n      <td>0</td>\n      <td>2019-01-24 09:52:00</td>\n      <td>11168</td>\n      <td>last</td>\n      <td>4774305</td>\n      <td>5</td>\n      <td>50.813203</td>\n      <td>15</td>\n      <td>Biegenstraße/Volkshochschule</td>\n      <td>5156.0</td>\n      <td>8.775948</td>\n      <td>False</td>\n    </tr>\n    <tr>\n      <th>6238</th>\n      <td>True</td>\n      <td>0</td>\n      <td>2019-01-25 14:35:00</td>\n      <td>11168</td>\n      <td>first</td>\n      <td>6666288</td>\n      <td>5</td>\n      <td>50.813691</td>\n      <td>15</td>\n      <td>Neue Universitätsbibliothek</td>\n      <td>5145.0</td>\n      <td>8.770734</td>\n      <td>False</td>\n    </tr>\n    <tr>\n      <th>6239</th>\n      <td>True</td>\n      <td>0</td>\n      <td>2019-01-25 14:39:00</td>\n      <td>11168</td>\n      <td>start</td>\n      <td>6666288</td>\n      <td>5</td>\n      <td>50.813691</td>\n      <td>15</td>\n      <td>Neue Universitätsbibliothek</td>\n      <td>5145.0</td>\n      <td>8.770734</td>\n      <td>False</td>\n    </tr>\n    <tr>\n      <th>6240</th>\n      <td>True</td>\n      <td>0</td>\n      <td>2019-01-25 14:59:00</td>\n      <td>11168</td>\n      <td>end</td>\n      <td>6666288</td>\n      <td>5</td>\n      <td>50.813691</td>\n      <td>15</td>\n      <td>Neue Universitätsbibliothek</td>\n      <td>5145.0</td>\n      <td>8.770734</td>\n      <td>False</td>\n    </tr>\n    <tr>\n      <th>6241</th>\n      <td>True</td>\n      <td>0</td>\n      <td>2019-01-25 15:08:00</td>\n      <td>11168</td>\n      <td>start</td>\n      <td>6666288</td>\n      <td>5</td>\n      <td>50.813691</td>\n      <td>15</td>\n      <td>Neue Universitätsbibliothek</td>\n      <td>5145.0</td>\n      <td>8.770734</td>\n      <td>False</td>\n    </tr>\n    <tr>\n      <th>6242</th>\n      <td>True</td>\n      <td>0</td>\n      <td>2019-01-25 16:02:00</td>\n      <td>11168</td>\n      <td>end</td>\n      <td>6666288</td>\n      <td>5</td>\n      <td>50.813691</td>\n      <td>15</td>\n      <td>Neue Universitätsbibliothek</td>\n      <td>5145.0</td>\n      <td>8.770734</td>\n      <td>False</td>\n    </tr>\n    <tr>\n      <th>6243</th>\n      <td>True</td>\n      <td>0</td>\n      <td>2019-01-25 17:40:00</td>\n      <td>11168</td>\n      <td>start</td>\n      <td>6666288</td>\n      <td>5</td>\n      <td>50.813691</td>\n      <td>15</td>\n      <td>Neue Universitätsbibliothek</td>\n      <td>5145.0</td>\n      <td>8.770734</td>\n      <td>False</td>\n    </tr>\n    <tr>\n      <th>6244</th>\n      <td>True</td>\n      <td>0</td>\n      <td>2019-01-25 17:47:00</td>\n      <td>11168</td>\n      <td>end</td>\n      <td>4774368</td>\n      <td>1</td>\n      <td>50.804522</td>\n      <td>15</td>\n      <td>Frankfurter Straße/Psychologie</td>\n      <td>5159.0</td>\n      <td>8.770358</td>\n      <td>False</td>\n    </tr>\n    <tr>\n      <th>6245</th>\n      <td>True</td>\n      <td>0</td>\n      <td>2019-01-25 19:10:00</td>\n      <td>11168</td>\n      <td>start</td>\n      <td>4774368</td>\n      <td>5</td>\n      <td>50.804522</td>\n      <td>15</td>\n      <td>Frankfurter Straße/Psychologie</td>\n      <td>5159.0</td>\n      <td>8.770358</td>\n      <td>False</td>\n    </tr>\n    <tr>\n      <th>6246</th>\n      <td>True</td>\n      <td>0</td>\n      <td>2019-01-25 22:14:00</td>\n      <td>11168</td>\n      <td>end</td>\n      <td>4774368</td>\n      <td>5</td>\n      <td>50.804522</td>\n      <td>15</td>\n      <td>Frankfurter Straße/Psychologie</td>\n      <td>5159.0</td>\n      <td>8.770358</td>\n      <td>False</td>\n    </tr>\n    <tr>\n      <th>6247</th>\n      <td>True</td>\n      <td>0</td>\n      <td>2019-01-25 23:59:00</td>\n      <td>11168</td>\n      <td>last</td>\n      <td>4774368</td>\n      <td>5</td>\n      <td>50.804522</td>\n      <td>15</td>\n      <td>Frankfurter Straße/Psychologie</td>\n      <td>5159.0</td>\n      <td>8.770358</td>\n      <td>False</td>\n    </tr>\n  </tbody>\n</table>\n</div>"
     },
     "execution_count": 108,
     "metadata": {},
     "output_type": "execute_result"
    }
   ],
   "source": [
    "dfTrip.loc[dfTrip['speed'] >66]"
   ],
   "metadata": {
    "collapsed": false,
    "pycharm": {
     "name": "#%%\n"
    }
   }
  },
  {
   "cell_type": "code",
   "execution_count": 101,
   "outputs": [
    {
     "name": "stdout",
     "output_type": "stream",
     "text": [
      "<class 'pandas.core.frame.DataFrame'>\n",
      "RangeIndex: 1561743 entries, 0 to 1561742\n",
      "Data columns (total 13 columns):\n",
      " #   Column        Non-Null Count    Dtype         \n",
      "---  ------        --------------    -----         \n",
      " 0   p_spot        1561743 non-null  bool          \n",
      " 1   p_place_type  1561743 non-null  int64         \n",
      " 2   datetime      1561743 non-null  datetime64[ns]\n",
      " 3   b_number      1561743 non-null  int64         \n",
      " 4   trip          1561743 non-null  object        \n",
      " 5   p_uid         1561743 non-null  int64         \n",
      " 6   p_bikes       1561743 non-null  int64         \n",
      " 7   p_lat         1561743 non-null  float64       \n",
      " 8   b_bike_type   1561743 non-null  int64         \n",
      " 9   p_name        1561743 non-null  object        \n",
      " 10  p_number      1561677 non-null  float64       \n",
      " 11  p_lng         1561743 non-null  float64       \n",
      " 12  p_bike        1561743 non-null  bool          \n",
      "dtypes: bool(2), datetime64[ns](1), float64(3), int64(5), object(2)\n",
      "memory usage: 134.0+ MB\n"
     ]
    }
   ],
   "source": [
    "df.loc[df['b_number'] == 11168].head(50)"
   ],
   "metadata": {
    "collapsed": false,
    "pycharm": {
     "name": "#%%\n"
    }
   }
  },
  {
   "cell_type": "code",
   "execution_count": 18,
   "outputs": [
    {
     "name": "stdout",
     "output_type": "stream",
     "text": [
      "<class 'pandas.core.frame.DataFrame'>\n",
      "RangeIndex: 630969 entries, 0 to 630968\n",
      "Data columns (total 11 columns):\n",
      " #   Column    Non-Null Count   Dtype          \n",
      "---  ------    --------------   -----          \n",
      " 0   bNumber   630969 non-null  int64          \n",
      " 1   sTime     630969 non-null  datetime64[ns] \n",
      " 2   eTime     630969 non-null  datetime64[ns] \n",
      " 3   duration  630969 non-null  timedelta64[ns]\n",
      " 4   sLong     630969 non-null  float64        \n",
      " 5   sLat      630969 non-null  float64        \n",
      " 6   eLong     630969 non-null  float64        \n",
      " 7   eLat      630969 non-null  float64        \n",
      " 8   weekend   630969 non-null  int64          \n",
      " 9   dist      630969 non-null  float64        \n",
      " 10  speed     630969 non-null  float64        \n",
      "dtypes: datetime64[ns](2), float64(6), int64(2), timedelta64[ns](1)\n",
      "memory usage: 53.0 MB\n"
     ]
    }
   ],
   "source": [
    "df.info()"
   ],
   "metadata": {
    "collapsed": false,
    "pycharm": {
     "name": "#%%\n"
    }
   }
  },
  {
   "cell_type": "code",
   "execution_count": 19,
   "outputs": [
    {
     "name": "stdout",
     "output_type": "stream",
     "text": [
      "Obtaining file:///C:/Users/loren/Documents/GitHub/PDS_Project\n",
      "Requirement already satisfied: pandas in h:\\python\\envs\\pds_project\\lib\\site-packages (from PDS-Project==0.0.1.dev13) (1.0.3)\n",
      "Requirement already satisfied: scikit-learn in h:\\python\\envs\\pds_project\\lib\\site-packages (from PDS-Project==0.0.1.dev13) (0.22.2.post1)\n",
      "Requirement already satisfied: click in h:\\python\\envs\\pds_project\\lib\\site-packages (from PDS-Project==0.0.1.dev13) (7.1.1)\n",
      "Requirement already satisfied: numpy>=1.13.3 in h:\\python\\envs\\pds_project\\lib\\site-packages (from pandas->PDS-Project==0.0.1.dev13) (1.18.3)\n",
      "Requirement already satisfied: pytz>=2017.2 in h:\\python\\envs\\pds_project\\lib\\site-packages (from pandas->PDS-Project==0.0.1.dev13) (2019.3)\n",
      "Requirement already satisfied: python-dateutil>=2.6.1 in h:\\python\\envs\\pds_project\\lib\\site-packages (from pandas->PDS-Project==0.0.1.dev13) (2.8.1)\n",
      "Requirement already satisfied: joblib>=0.11 in h:\\python\\envs\\pds_project\\lib\\site-packages (from scikit-learn->PDS-Project==0.0.1.dev13) (0.14.1)\n",
      "Requirement already satisfied: scipy>=0.17.0 in h:\\python\\envs\\pds_project\\lib\\site-packages (from scikit-learn->PDS-Project==0.0.1.dev13) (1.4.1)\n",
      "Requirement already satisfied: six>=1.5 in h:\\python\\envs\\pds_project\\lib\\site-packages (from python-dateutil>=2.6.1->pandas->PDS-Project==0.0.1.dev13) (1.14.0)\n",
      "Installing collected packages: PDS-Project\n",
      "  Attempting uninstall: PDS-Project\n",
      "    Found existing installation: PDS-Project 0.0.1.dev13\n",
      "    Uninstalling PDS-Project-0.0.1.dev13:\n",
      "      Successfully uninstalled PDS-Project-0.0.1.dev13\n",
      "  Running setup.py develop for PDS-Project\n",
      "Successfully installed PDS-Project\n"
     ]
    },
    {
     "ename": "FileNotFoundError",
     "evalue": "[Errno 2] No such file or directory: 'C:\\\\Users\\\\loren\\\\Documents\\\\GitHub\\\\PDS_Project\\\\notebooks\\\\../data\\\\output/tripData.csv'",
     "output_type": "error",
     "traceback": [
      "\u001B[1;31m---------------------------------------------------------------------------\u001B[0m",
      "\u001B[1;31mFileNotFoundError\u001B[0m                         Traceback (most recent call last)",
      "\u001B[1;32m<ipython-input-19-d7d4e91ee9d3>\u001B[0m in \u001B[0;36m<module>\u001B[1;34m\u001B[0m\n\u001B[0;32m      1\u001B[0m \u001B[0mget_ipython\u001B[0m\u001B[1;33m(\u001B[0m\u001B[1;33m)\u001B[0m\u001B[1;33m.\u001B[0m\u001B[0msystem\u001B[0m\u001B[1;33m(\u001B[0m\u001B[1;34m'pip install -e ..'\u001B[0m\u001B[1;33m)\u001B[0m\u001B[1;33m\u001B[0m\u001B[1;33m\u001B[0m\u001B[0m\n\u001B[1;32m----> 2\u001B[1;33m \u001B[0mnextbike\u001B[0m\u001B[1;33m.\u001B[0m\u001B[0mio\u001B[0m\u001B[1;33m.\u001B[0m\u001B[0moutput\u001B[0m\u001B[1;33m.\u001B[0m\u001B[0msaveTrips\u001B[0m\u001B[1;33m(\u001B[0m\u001B[0mdfTrip\u001B[0m\u001B[1;33m)\u001B[0m\u001B[1;33m\u001B[0m\u001B[1;33m\u001B[0m\u001B[0m\n\u001B[0m\u001B[0;32m      3\u001B[0m \u001B[1;33m\u001B[0m\u001B[0m\n\u001B[0;32m      4\u001B[0m \u001B[1;33m\u001B[0m\u001B[0m\n",
      "\u001B[1;32m~\\Documents\\GitHub\\PDS_Project\\nextbike\\io\\output.py\u001B[0m in \u001B[0;36msaveTrips\u001B[1;34m(df)\u001B[0m\n\u001B[0;32m      9\u001B[0m \u001B[1;33m\u001B[0m\u001B[0m\n\u001B[0;32m     10\u001B[0m \u001B[1;33m\u001B[0m\u001B[0m\n\u001B[1;32m---> 11\u001B[1;33m \u001B[1;32mdef\u001B[0m \u001B[0msaveTrips\u001B[0m\u001B[1;33m(\u001B[0m\u001B[0mdf\u001B[0m\u001B[1;33m)\u001B[0m\u001B[1;33m:\u001B[0m\u001B[1;33m\u001B[0m\u001B[1;33m\u001B[0m\u001B[0m\n\u001B[0m\u001B[0;32m     12\u001B[0m     \u001B[1;32mtry\u001B[0m\u001B[1;33m:\u001B[0m\u001B[1;33m\u001B[0m\u001B[1;33m\u001B[0m\u001B[0m\n\u001B[0;32m     13\u001B[0m         \u001B[0mdf\u001B[0m\u001B[1;33m.\u001B[0m\u001B[0mto_csv\u001B[0m\u001B[1;33m(\u001B[0m\u001B[1;34mr'./data/output/tripData.csv'\u001B[0m\u001B[1;33m)\u001B[0m\u001B[1;33m\u001B[0m\u001B[1;33m\u001B[0m\u001B[0m\n",
      "\u001B[1;31mFileNotFoundError\u001B[0m: [Errno 2] No such file or directory: 'C:\\\\Users\\\\loren\\\\Documents\\\\GitHub\\\\PDS_Project\\\\notebooks\\\\../data\\\\output/tripData.csv'"
     ]
    }
   ],
   "source": [
    "dfTrip.info()\n",
    "\n"
   ],
   "metadata": {
    "collapsed": false,
    "pycharm": {
     "name": "#%%\n"
    }
   }
  },
  {
   "cell_type": "code",
   "execution_count": null,
   "outputs": [],
   "source": [
    "!pip install -e ..\n",
    "nextbike.io.output.saveTrips(dfTrip)\n"
   ],
   "metadata": {
    "collapsed": false,
    "pycharm": {
     "name": "#%%\n"
    }
   }
  },
  {
   "cell_type": "code",
   "execution_count": 17,
   "outputs": [
    {
     "data": {
      "text/plain": "        bNumber               sTime               eTime duration     sLong  \\\n116001    11272 2019-08-01 11:41:00 2019-08-01 15:55:00 04:14:00  8.771030   \n116002    11128 2019-08-01 13:36:00 2019-08-01 13:43:00 00:07:00  8.775351   \n116003    11128 2019-08-01 14:12:00 2019-08-01 14:21:00 00:09:00  8.775351   \n116004    11128 2019-08-01 15:08:00 2019-08-01 15:15:00 00:07:00  8.775351   \n116005    11128 2019-08-01 15:33:00 2019-08-01 15:45:00 00:12:00  8.775351   \n\n            sLat     eLong       eLat  weekend  bType  sPlaceNumber  \\\n116001  50.82022  8.771030  50.820220    False     15        5146.0   \n116002  50.80807  8.775351  50.808070    False     15        5158.0   \n116003  50.80807  8.775351  50.808070    False     15        5158.0   \n116004  50.80807  8.775351  50.808070    False     15        5158.0   \n116005  50.80807  8.770734  50.813691    False     15        5158.0   \n\n        ePlaceNumber  \n116001        5146.0  \n116002        5158.0  \n116003        5158.0  \n116004        5158.0  \n116005        5145.0  ",
      "text/html": "<div>\n<style scoped>\n    .dataframe tbody tr th:only-of-type {\n        vertical-align: middle;\n    }\n\n    .dataframe tbody tr th {\n        vertical-align: top;\n    }\n\n    .dataframe thead th {\n        text-align: right;\n    }\n</style>\n<table border=\"1\" class=\"dataframe\">\n  <thead>\n    <tr style=\"text-align: right;\">\n      <th></th>\n      <th>bNumber</th>\n      <th>sTime</th>\n      <th>eTime</th>\n      <th>duration</th>\n      <th>sLong</th>\n      <th>sLat</th>\n      <th>eLong</th>\n      <th>eLat</th>\n      <th>weekend</th>\n      <th>bType</th>\n      <th>sPlaceNumber</th>\n      <th>ePlaceNumber</th>\n    </tr>\n  </thead>\n  <tbody>\n    <tr>\n      <th>116001</th>\n      <td>11272</td>\n      <td>2019-08-01 11:41:00</td>\n      <td>2019-08-01 15:55:00</td>\n      <td>04:14:00</td>\n      <td>8.771030</td>\n      <td>50.82022</td>\n      <td>8.771030</td>\n      <td>50.820220</td>\n      <td>False</td>\n      <td>15</td>\n      <td>5146.0</td>\n      <td>5146.0</td>\n    </tr>\n    <tr>\n      <th>116002</th>\n      <td>11128</td>\n      <td>2019-08-01 13:36:00</td>\n      <td>2019-08-01 13:43:00</td>\n      <td>00:07:00</td>\n      <td>8.775351</td>\n      <td>50.80807</td>\n      <td>8.775351</td>\n      <td>50.808070</td>\n      <td>False</td>\n      <td>15</td>\n      <td>5158.0</td>\n      <td>5158.0</td>\n    </tr>\n    <tr>\n      <th>116003</th>\n      <td>11128</td>\n      <td>2019-08-01 14:12:00</td>\n      <td>2019-08-01 14:21:00</td>\n      <td>00:09:00</td>\n      <td>8.775351</td>\n      <td>50.80807</td>\n      <td>8.775351</td>\n      <td>50.808070</td>\n      <td>False</td>\n      <td>15</td>\n      <td>5158.0</td>\n      <td>5158.0</td>\n    </tr>\n    <tr>\n      <th>116004</th>\n      <td>11128</td>\n      <td>2019-08-01 15:08:00</td>\n      <td>2019-08-01 15:15:00</td>\n      <td>00:07:00</td>\n      <td>8.775351</td>\n      <td>50.80807</td>\n      <td>8.775351</td>\n      <td>50.808070</td>\n      <td>False</td>\n      <td>15</td>\n      <td>5158.0</td>\n      <td>5158.0</td>\n    </tr>\n    <tr>\n      <th>116005</th>\n      <td>11128</td>\n      <td>2019-08-01 15:33:00</td>\n      <td>2019-08-01 15:45:00</td>\n      <td>00:12:00</td>\n      <td>8.775351</td>\n      <td>50.80807</td>\n      <td>8.770734</td>\n      <td>50.813691</td>\n      <td>False</td>\n      <td>15</td>\n      <td>5158.0</td>\n      <td>5145.0</td>\n    </tr>\n  </tbody>\n</table>\n</div>"
     },
     "execution_count": 17,
     "metadata": {},
     "output_type": "execute_result"
    }
   ],
   "source": [
    "import datetime\n",
    "dfTrip[dfTrip['sTime'].dt.date > datetime.date(2019,6,30)].head(5)"
   ],
   "metadata": {
    "collapsed": false,
    "pycharm": {
     "name": "#%%\n"
    }
   }
  },
  {
   "cell_type": "code",
   "execution_count": null,
   "outputs": [],
   "source": [
    "import datetime\n",
    "df[df['datetime'].dt.date < datetime.date(2019,7,30)].tail(5)"
   ],
   "metadata": {
    "collapsed": false,
    "pycharm": {
     "name": "#%%",
     "is_executing": true
    }
   }
  }
 ],
 "metadata": {
  "kernelspec": {
   "name": "python38264bitpdsprojectconda2ed989fab6fc4cf5a2db8d6fe033639c",
   "language": "python",
   "display_name": "Python 3.8.2 64-bit ('PDS_Project': conda)"
  },
  "language_info": {
   "codemirror_mode": {
    "name": "ipython",
    "version": 3
   },
   "file_extension": ".py",
   "mimetype": "text/x-python",
   "name": "python",
   "nbconvert_exporter": "python",
   "pygments_lexer": "ipython3",
   "version": "3.8.2-final"
  }
 },
 "nbformat": 4,
 "nbformat_minor": 4
}