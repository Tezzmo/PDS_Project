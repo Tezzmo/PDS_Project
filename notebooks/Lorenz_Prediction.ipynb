{
 "cells": [
  {
   "cell_type": "code",
   "execution_count": 20,
   "metadata": {},
   "outputs": [],
   "source": [
    "import nextbike\n",
    "import pandas as pd\n",
    "import numpy as np\n",
    "import matplotlib.pyplot as plt\n",
    "from sklearn.model_selection import train_test_split\n",
    "from sklearn.preprocessing import StandardScaler\n",
    "from sklearn.ensemble import RandomForestRegressor"
   ]
  },
  {
   "cell_type": "code",
   "execution_count": 5,
   "metadata": {},
   "outputs": [
    {
     "output_type": "execute_result",
     "data": {
      "text/plain": "   bNumber               sTime               eTime duration     sLong  \\\n0    11169 2019-01-20 01:55:00 2019-01-20 02:06:00 00:11:00  8.763266   \n1    11169 2019-01-20 08:15:00 2019-01-20 11:39:00 03:24:00  8.770358   \n\n        sLat     eLong       eLat  weekend  bType  sPlaceNumber  ePlaceNumber  \\\n0  50.795224  8.770358  50.804522     True     15        5173.0        5159.0   \n1  50.804522  8.770358  50.804522     True     15        5159.0        5159.0   \n\n   durationInSec  \n0            660  \n1          12240  ",
      "text/html": "<div>\n<style scoped>\n    .dataframe tbody tr th:only-of-type {\n        vertical-align: middle;\n    }\n\n    .dataframe tbody tr th {\n        vertical-align: top;\n    }\n\n    .dataframe thead th {\n        text-align: right;\n    }\n</style>\n<table border=\"1\" class=\"dataframe\">\n  <thead>\n    <tr style=\"text-align: right;\">\n      <th></th>\n      <th>bNumber</th>\n      <th>sTime</th>\n      <th>eTime</th>\n      <th>duration</th>\n      <th>sLong</th>\n      <th>sLat</th>\n      <th>eLong</th>\n      <th>eLat</th>\n      <th>weekend</th>\n      <th>bType</th>\n      <th>sPlaceNumber</th>\n      <th>ePlaceNumber</th>\n      <th>durationInSec</th>\n    </tr>\n  </thead>\n  <tbody>\n    <tr>\n      <th>0</th>\n      <td>11169</td>\n      <td>2019-01-20 01:55:00</td>\n      <td>2019-01-20 02:06:00</td>\n      <td>00:11:00</td>\n      <td>8.763266</td>\n      <td>50.795224</td>\n      <td>8.770358</td>\n      <td>50.804522</td>\n      <td>True</td>\n      <td>15</td>\n      <td>5173.0</td>\n      <td>5159.0</td>\n      <td>660</td>\n    </tr>\n    <tr>\n      <th>1</th>\n      <td>11169</td>\n      <td>2019-01-20 08:15:00</td>\n      <td>2019-01-20 11:39:00</td>\n      <td>03:24:00</td>\n      <td>8.770358</td>\n      <td>50.804522</td>\n      <td>8.770358</td>\n      <td>50.804522</td>\n      <td>True</td>\n      <td>15</td>\n      <td>5159.0</td>\n      <td>5159.0</td>\n      <td>12240</td>\n    </tr>\n  </tbody>\n</table>\n</div>"
     },
     "metadata": {},
     "execution_count": 5
    }
   ],
   "source": [
    "dfRaw = nextbike.io.read_file()\n",
    "dfTrips = nextbike.io.createTrips(dfRaw)\n",
    "dfTrips = nextbike.io.drop_outliers(dfTrips)\n",
    "dfTrips.head(2)"
   ]
  },
  {
   "cell_type": "code",
   "execution_count": null,
   "metadata": {},
   "outputs": [],
   "source": []
  },
  {
   "cell_type": "code",
   "execution_count": 38,
   "metadata": {},
   "outputs": [
    {
     "output_type": "stream",
     "name": "stdout",
     "text": "Hour: 0\n0.3280449745905605\nHour: 1\n0.09720811093158754\nHour: 2\n0.3774608494994621\nHour: 3\n0.37029683225815835\nHour: 4\n0.2858413479041937\nHour: 5\n0.15208207117911066\nHour: 6\n0.0919265381259814\nHour: 7\n0.08840902448502741\nHour: 8\n0.11332485506689072\nHour: 9\n0.10745780684596683\nHour: 10\n0.11017707926273411\nHour: 11\n0.10738854798987872\nHour: 12\n0.10583270624030205\nHour: 13\n0.060300188491672735\nHour: 14\n0.0933865454692032\nHour: 15\n0.06008208625811329\nHour: 16\n0.08371633895557296\nHour: 17\n0.06582112062941747\nHour: 18\n0.07210989569369974\nHour: 19\n0.10093915330708904\nHour: 20\n0.11137531347278451\nHour: 21\n0.1530718559259181\nHour: 22\n0.19559253653941222\nHour: 23\n0.3463564459668985\n"
    }
   ],
   "source": [
    "dfTrips['sMonth'] = dfTrips['sTime'].dt.month\n",
    "dfTrips['weekday'] = dfTrips['sTime'].dt.dayofweek\n",
    "dfTrips['minute'] = dfTrips['sTime'].dt.minute\n",
    "dfTrips.dropna(inplace=True)\n",
    "dfPred = []\n",
    "xScaler = []\n",
    "yScaler = []\n",
    "X = []\n",
    "Y = []\n",
    "regressor = []\n",
    "for hour in range(24):\n",
    "    print('Hour: '+ str(hour))\n",
    "    dfPred.append(dfTrips.loc[dfTrips['sTime'].dt.hour == hour])\n",
    "    X.append(dfPred[hour][['weekday', 'sPlaceNumber', 'sMonth']].values)\n",
    "    Y.append(dfPred[hour]['duration'].values/60)\n",
    "    \n",
    "    x_test, x_train, y_test, y_train = train_test_split(X[hour],Y[hour], test_size=0.3)\n",
    "    sscaler = StandardScaler()\n",
    "    x_train = sscaler.fit_transform(x_train)\n",
    "    x_test = sscaler.transform(x_test)\n",
    "    xScaler.append(sscaler)\n",
    "    \n",
    "    sscaler2 = StandardScaler()\n",
    "\n",
    "    y_train = sscaler2.fit_transform(y_train.reshape(-1,1))\n",
    "    y_test = sscaler2.transform(y_test.reshape(-1,1))\n",
    "    yScaler.append(sscaler2)\n",
    "    reg = RandomForestRegressor(n_jobs=-1,n_estimators=1000)\n",
    "    #print(np.isnan(x_train,out=True))\n",
    "    reg.fit(x_train,y_train)\n",
    "\n",
    "    print(reg.score(x_test,y_test))\n",
    "        "
   ]
  },
  {
   "cell_type": "code",
   "execution_count": null,
   "metadata": {},
   "outputs": [],
   "source": []
  }
 ],
 "metadata": {
  "language_info": {
   "codemirror_mode": {
    "name": "ipython",
    "version": 3
   },
   "file_extension": ".py",
   "mimetype": "text/x-python",
   "name": "python",
   "nbconvert_exporter": "python",
   "pygments_lexer": "ipython3",
   "version": "3.8.2-final"
  },
  "orig_nbformat": 2,
  "kernelspec": {
   "name": "python38264bitpdsprojectconda2ed989fab6fc4cf5a2db8d6fe033639c",
   "display_name": "Python 3.8.2 64-bit ('PDS_Project': conda)"
  }
 },
 "nbformat": 4,
 "nbformat_minor": 2
}